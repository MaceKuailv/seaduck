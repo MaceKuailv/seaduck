{
 "cells": [
  {
   "attachments": {},
   "cell_type": "markdown",
   "metadata": {},
   "source": [
    "# Tilted solid-body rotation\n",
    "\n",
    "If you've already looked at the stream function conservation examples in the [horizontal](./hor_stream) and [vertical](./ver_stream) examples, you may still have the following doubts:\n",
    "\n",
    "1. What if the flow is not 2D/not aligned with the grid direction?\n",
    "1. If the velocity components are all scaled by a factor, the streamlines will still be the same.\n",
    "\n",
    "This notebook is designed to address those doubts. We use a tilted solid body rotation with known orbit frequency for demonstration. As far as the package is concerned, tilted 2D flow is not different from fully 3D flow."
   ]
  },
  {
   "cell_type": "code",
   "execution_count": null,
   "metadata": {
    "tags": [
     "hide-input"
    ]
   },
   "outputs": [],
   "source": [
    "import warnings\n",
    "\n",
    "import matplotlib as mpl\n",
    "import matplotlib.pyplot as plt\n",
    "import numpy as np\n",
    "import pooch\n",
    "import xarray as xr\n",
    "from PIL import Image\n",
    "\n",
    "import seaduck as sd\n",
    "\n",
    "mpl.rcParams[\"figure.dpi\"] = 300\n",
    "\n",
    "warnings.filterwarnings(\"ignore\")"
   ]
  },
  {
   "attachments": {},
   "cell_type": "markdown",
   "metadata": {},
   "source": [
    "## Loading data\n",
    "\n",
    "First, we prepare the grid of the dataset"
   ]
  },
  {
   "cell_type": "code",
   "execution_count": null,
   "metadata": {
    "tags": [
     "hide-input"
    ]
   },
   "outputs": [],
   "source": [
    "M = 100\n",
    "N = 100\n",
    "\n",
    "x = np.linspace(-1, 1, N + 1)\n",
    "y = np.linspace(-1, 1, M + 1)\n",
    "dy = y[1] - y[0]\n",
    "xg, yg = np.meshgrid(x, y)\n",
    "\n",
    "xv = 0.5 * (xg[:, 1:] + xg[:, :-1])\n",
    "yv = 0.5 * (yg[:, 1:] + yg[:, :-1])\n",
    "xu = 0.5 * (xg[1:] + xg[:-1])\n",
    "yu = 0.5 * (yg[1:] + yg[:-1])\n",
    "\n",
    "xc = 0.5 * (xv[1:] + xv[:-1])\n",
    "yc = 0.5 * (yv[1:] + yv[:-1])\n",
    "\n",
    "zp1 = np.linspace(0, -4, M + 1)\n",
    "z = 0.5 * (zp1[1:] + zp1[:-1])\n",
    "zl = zp1[:-1]\n",
    "drf = np.abs(np.diff(zp1))"
   ]
  },
  {
   "attachments": {},
   "cell_type": "markdown",
   "metadata": {},
   "source": [
    "Calculate the solid-body velocity in the horizontal directions:"
   ]
  },
  {
   "cell_type": "code",
   "execution_count": null,
   "metadata": {
    "tags": []
   },
   "outputs": [],
   "source": [
    "def solid_body(x, y):\n",
    "    omega = 1\n",
    "    r = np.hypot(x, y)\n",
    "    speed = np.zeros_like(x)\n",
    "    speed = omega * r\n",
    "\n",
    "    u = -y / r * speed\n",
    "    v = x / r * speed\n",
    "    return u, v"
   ]
  },
  {
   "cell_type": "code",
   "execution_count": null,
   "metadata": {
    "tags": []
   },
   "outputs": [],
   "source": [
    "u, _ = solid_body(xu, yu)\n",
    "_, v = solid_body(xv, yv)"
   ]
  },
  {
   "attachments": {},
   "cell_type": "markdown",
   "metadata": {},
   "source": [
    "We define the angle of the tilt of the velocity field:"
   ]
  },
  {
   "cell_type": "code",
   "execution_count": null,
   "metadata": {
    "tags": []
   },
   "outputs": [],
   "source": [
    "angle = np.pi / 6\n",
    "tan = np.tan(angle)"
   ]
  },
  {
   "attachments": {},
   "cell_type": "markdown",
   "metadata": {},
   "source": [
    "The vertical velocity is proportional to the $v$ velocity by the tangent of the angle we just defined:"
   ]
  },
  {
   "cell_type": "code",
   "execution_count": null,
   "metadata": {
    "tags": []
   },
   "outputs": [],
   "source": [
    "vc = 0.5 * (v[1:] + v[:-1])\n",
    "zygrid = drf[0] / dy\n",
    "w = tan * vc / zygrid"
   ]
  },
  {
   "cell_type": "code",
   "execution_count": null,
   "metadata": {
    "tags": []
   },
   "outputs": [],
   "source": [
    "u = np.tile(u, (len(z), 1, 1))\n",
    "v = np.tile(v, (len(z), 1, 1))\n",
    "w = np.tile(w, (len(z), 1, 1))"
   ]
  },
  {
   "attachments": {},
   "cell_type": "markdown",
   "metadata": {},
   "source": [
    "Now, we can assemble the parts to create the `xarray.Dataset`:"
   ]
  },
  {
   "cell_type": "code",
   "execution_count": null,
   "metadata": {
    "tags": [
     "hide-input"
    ]
   },
   "outputs": [],
   "source": [
    "ds = xr.Dataset(\n",
    "    coords=dict(\n",
    "        XC=([\"Y\", \"X\"], xc),\n",
    "        YC=([\"Y\", \"X\"], yc),\n",
    "        XG=([\"Yp1\", \"Xp1\"], xg),\n",
    "        YG=([\"Yp1\", \"Xp1\"], yg),\n",
    "        rA=([\"Y\", \"X\"], np.ones_like(xc, float)),\n",
    "        Zp1=([\"Zp1\"], zp1),\n",
    "        Zl=([\"Zl\"], zl),\n",
    "        Z=([\"Z\"], z),\n",
    "        drF=([\"Z\"], drf),\n",
    "    ),\n",
    "    data_vars=dict(\n",
    "        UVELMASS=([\"Z\", \"Y\", \"Xp1\"], u),\n",
    "        VVELMASS=([\"Z\", \"Yp1\", \"X\"], v),\n",
    "        WVELMASS=([\"Zl\", \"Y\", \"X\"], w),\n",
    "    ),\n",
    ")\n",
    "ds"
   ]
  },
  {
   "attachments": {},
   "cell_type": "markdown",
   "metadata": {},
   "source": [
    "## Prepare the test\n",
    "\n",
    "As always, convert `xarray.Dataset` to `seaduck.OceData`:"
   ]
  },
  {
   "cell_type": "code",
   "execution_count": null,
   "metadata": {},
   "outputs": [],
   "source": [
    "tub = sd.OceData(ds)"
   ]
  },
  {
   "attachments": {},
   "cell_type": "markdown",
   "metadata": {},
   "source": [
    "Now we define the initial position. For reasons that will be clear in a minute, we define the particle on a plane that is parallel to the velocity field."
   ]
  },
  {
   "cell_type": "code",
   "execution_count": null,
   "metadata": {
    "tags": [
     "hide-input"
    ]
   },
   "outputs": [],
   "source": [
    "n = 64\n",
    "m = 64\n",
    "edge = 0.3\n",
    "x = np.linspace(-edge, edge, n)\n",
    "y = np.linspace(-edge, edge, m)\n",
    "x, y = np.meshgrid(x, y)"
   ]
  },
  {
   "cell_type": "code",
   "execution_count": null,
   "metadata": {},
   "outputs": [],
   "source": [
    "x = x.ravel()\n",
    "y = y.ravel()\n",
    "\n",
    "z = -2 + tan * y"
   ]
  },
  {
   "attachments": {},
   "cell_type": "markdown",
   "metadata": {},
   "source": [
    "A coloring scheme is defined here to help human eyes to identify the patterns. We also define a function here that allows us to look at the particles along the $x$, $y$, and $z$ axes."
   ]
  },
  {
   "cell_type": "code",
   "execution_count": null,
   "metadata": {
    "tags": [
     "hide-input"
    ]
   },
   "outputs": [],
   "source": [
    "file_path = pooch.retrieve(\n",
    "    url=\"https://github.com/MaceKuailv/seaduck/blob/main/docs/logo.png?raw=true\",\n",
    "    known_hash=\"bed53271c0356006eb02751040b7a10536b853872de1c728106ee56227b7c0f8\",\n",
    ")\n",
    "image = Image.open(file_path)\n",
    "rgb = np.asarray(image)\n",
    "\n",
    "bins = 1024 // n\n",
    "particle_color = rgb[::-bins, ::bins].reshape(len(x), 3) / 255\n",
    "\n",
    "\n",
    "def plot_particle3d(pt, c=particle_color, s=8):\n",
    "    fig = plt.figure(figsize=(15, 5))\n",
    "    ax1 = plt.subplot(1, 3, 1)\n",
    "    ax1.scatter(pt.lat, pt.dep, c=c, s=s)\n",
    "    ax1.set_ylabel(\"z\")\n",
    "    ax1.set_xlabel(\"y\")\n",
    "    ax1.set_title(\"Y-Z plane\")\n",
    "\n",
    "    ax2 = plt.subplot(1, 3, 2)\n",
    "    ax2.scatter(pt.lon, pt.dep, c=c, s=s)\n",
    "    ax2.set_ylabel(\"z\")\n",
    "    ax2.set_xlabel(\"x\")\n",
    "    ax2.set_title(\"X-Z plane\")\n",
    "\n",
    "    ax3 = plt.subplot(1, 3, 3)\n",
    "    ax3.scatter(pt.lon, pt.lat, c=c, s=s)\n",
    "    ax3.set_ylabel(\"y\")\n",
    "    ax3.set_xlabel(\"x\")\n",
    "    ax3.set_title(\"X-Y plane\")\n",
    "\n",
    "    return fig"
   ]
  },
  {
   "attachments": {},
   "cell_type": "markdown",
   "metadata": {},
   "source": [
    "## Run the test\n",
    "\n",
    "Let's take a look at the initial condition:"
   ]
  },
  {
   "cell_type": "code",
   "execution_count": null,
   "metadata": {},
   "outputs": [],
   "source": [
    "pt = sd.Particle(x=x, y=y, z=z, t=np.zeros_like(x), data=tub, transport=True)"
   ]
  },
  {
   "cell_type": "code",
   "execution_count": null,
   "metadata": {},
   "outputs": [],
   "source": [
    "plot_particle3d(pt)\n",
    "plt.show()"
   ]
  },
  {
   "attachments": {},
   "cell_type": "markdown",
   "metadata": {
    "tags": [
     "mdformat-skip"
    ]
   },
   "source": [
    "Note that on the $y$-$z$ plane, the particles are aligned on a single straight line.\n",
    "\n",
    "Now see what happens when we try to run the particles to turn them exactly 180 $^{\\circ}$."
   ]
  },
  {
   "cell_type": "code",
   "execution_count": null,
   "metadata": {},
   "outputs": [],
   "source": [
    "pt.to_next_stop(np.pi * 2)"
   ]
  },
  {
   "cell_type": "code",
   "execution_count": null,
   "metadata": {},
   "outputs": [],
   "source": [
    "plot_particle3d(pt)\n",
    "plt.show()"
   ]
  },
  {
   "attachments": {},
   "cell_type": "markdown",
   "metadata": {
    "tags": [
     "mdformat-skip"
    ]
   },
   "source": [
    "It turns exactly 180 $^{\\circ}$! And from the $y$-$z$ plane, it stays a straight line!"
   ]
  },
  {
   "attachments": {},
   "cell_type": "markdown",
   "metadata": {},
   "source": [
    "You may noticed that the relative position of particles has changed a little. This is because the motion defined by the finite resolution gridded dataset is not a perfect solid-body rotation. However, it is pretty close!\n",
    "\n",
    "Can you turn it backward a little to get a golden ratio?"
   ]
  },
  {
   "cell_type": "code",
   "execution_count": null,
   "metadata": {},
   "outputs": [],
   "source": [
    "pt.to_next_stop(np.pi * 1.618)"
   ]
  },
  {
   "cell_type": "code",
   "execution_count": null,
   "metadata": {},
   "outputs": [],
   "source": [
    "plot_particle3d(pt)\n",
    "plt.show()"
   ]
  },
  {
   "attachments": {},
   "cell_type": "markdown",
   "metadata": {},
   "source": [
    "Yes!\n",
    "\n",
    "What is more impressive is that we can run it back to the initial time. Look what happens:"
   ]
  },
  {
   "cell_type": "code",
   "execution_count": null,
   "metadata": {},
   "outputs": [],
   "source": [
    "pt.to_next_stop(0.0)"
   ]
  },
  {
   "cell_type": "code",
   "execution_count": null,
   "metadata": {},
   "outputs": [],
   "source": [
    "plot_particle3d(pt)\n",
    "plt.show()"
   ]
  },
  {
   "attachments": {},
   "cell_type": "markdown",
   "metadata": {},
   "source": [
    "It looks identical to the initial condition!\n",
    "\n",
    "You have to take my words for it: we **did not** cache the positions (no cheating!)."
   ]
  },
  {
   "attachments": {},
   "cell_type": "markdown",
   "metadata": {},
   "source": [
    "Some small errors are introduced during our handling of the particles, so it's not completely reversible. Let's check:"
   ]
  },
  {
   "cell_type": "code",
   "execution_count": null,
   "metadata": {},
   "outputs": [],
   "source": [
    "np.std(pt.lon - x), np.std(pt.lat - y), np.std(pt.dep - z)"
   ]
  },
  {
   "attachments": {},
   "cell_type": "markdown",
   "metadata": {},
   "source": [
    "Bu these are pretty small errors!"
   ]
  }
 ],
 "metadata": {
  "celltoolbar": "Tags",
  "kernelspec": {
   "display_name": "Python 3 (ipykernel)",
   "language": "python",
   "name": "python3"
  },
  "language_info": {
   "codemirror_mode": {
    "name": "ipython",
    "version": 3
   },
   "file_extension": ".py",
   "mimetype": "text/x-python",
   "name": "python",
   "nbconvert_exporter": "python",
   "pygments_lexer": "ipython3",
   "version": "3.11.4"
  }
 },
 "nbformat": 4,
 "nbformat_minor": 4
}
