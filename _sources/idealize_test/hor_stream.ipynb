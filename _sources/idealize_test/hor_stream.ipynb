{
 "cells": [
  {
   "attachments": {},
   "cell_type": "markdown",
   "metadata": {},
   "source": [
    "# Horizontal stream function conservation\n",
    "\n",
    "author, Wenrui Jiang 06/06/2022\n",
    "\n",
    "This package currently only supports velocity fields that are piecewise stationary in time. For a stable velocity field, the streaklines will match the streamlines of the field.\n",
    "\n",
    "For 2D cases, this means conservation of stream function."
   ]
  },
  {
   "attachments": {},
   "cell_type": "markdown",
   "metadata": {
    "tags": [
     "mdformat-skip"
    ]
   },
   "source": [
    "$$\n",
    "\\frac{d \\Psi}{dt} = 0\n",
    "$$"
   ]
  },
  {
   "attachments": {},
   "cell_type": "markdown",
   "metadata": {},
   "source": [
    "A strong test can be constructed as follows: **simulate the particles under an arbitrary stream function and compare the stream function before-and-after**. If the code is correct, the stream function defined at the starting position of a particle should match that defined at the final position."
   ]
  },
  {
   "cell_type": "code",
   "execution_count": null,
   "metadata": {
    "tags": [
     "hide-input"
    ]
   },
   "outputs": [],
   "source": [
    "import warnings\n",
    "\n",
    "import matplotlib as mpl\n",
    "import matplotlib.pyplot as plt\n",
    "import numpy as np\n",
    "import pooch\n",
    "import xarray as xr\n",
    "from matplotlib import cm, colors\n",
    "\n",
    "import seaduck as sd\n",
    "\n",
    "mpl.rcParams[\"figure.dpi\"] = 300\n",
    "\n",
    "warnings.filterwarnings(\"ignore\")"
   ]
  },
  {
   "attachments": {},
   "cell_type": "markdown",
   "metadata": {},
   "source": [
    "## Loading data\n",
    "\n",
    "For this test example, the stream function we are going to use is an award-winning eddy in the arbitrary/cute department. Let's load it."
   ]
  },
  {
   "cell_type": "code",
   "execution_count": null,
   "metadata": {},
   "outputs": [],
   "source": [
    "file_path = pooch.retrieve(\n",
    "    url=\"https://github.com/MaceKuailv/seaduck_sciserver_notebook/raw/master/diffused_duck.npy\",\n",
    "    known_hash=\"8968fc89a57a492879dff6b458ffa1e03bb533e82bd76ca5db8496182fa2c32f\",\n",
    ")\n",
    "\n",
    "strmf = np.load(file_path)[::-1]\n",
    "M, N = strmf.shape\n",
    "M -= 1\n",
    "N -= 1\n",
    "x = np.linspace(-1, 1, N + 1)\n",
    "y = np.linspace(-1, 1, M + 1)\n",
    "xg, yg = np.meshgrid(x, y)"
   ]
  },
  {
   "attachments": {},
   "cell_type": "markdown",
   "metadata": {},
   "source": [
    "To show that I am not volkswagening you, I will plot the stream function."
   ]
  },
  {
   "cell_type": "code",
   "execution_count": null,
   "metadata": {},
   "outputs": [],
   "source": [
    "plt.pcolormesh(xg, yg, strmf, cmap=\"Oranges\")\n",
    "plt.gca().set_aspect(\"equal\")\n",
    "plt.xlabel(\"X\")\n",
    "plt.ylabel(\"Y\")\n",
    "plt.title(\"Stream function of a very arbitrary eddy\")\n",
    "plt.show()"
   ]
  },
  {
   "attachments": {},
   "cell_type": "markdown",
   "metadata": {},
   "source": [
    "**Fig.1** A stream function that is not particular in any senses."
   ]
  },
  {
   "attachments": {},
   "cell_type": "markdown",
   "metadata": {},
   "source": [
    "Now we prepare create the grids needed and therefore the xarray dataset for the simulation."
   ]
  },
  {
   "cell_type": "code",
   "execution_count": null,
   "metadata": {
    "tags": [
     "hide-input"
    ]
   },
   "outputs": [],
   "source": [
    "xv = 0.5 * (xg[:, 1:] + xg[:, :-1])\n",
    "yv = 0.5 * (yg[:, 1:] + yg[:, :-1])\n",
    "xu = 0.5 * (xg[1:] + xg[:-1])\n",
    "yu = 0.5 * (yg[1:] + yg[:-1])\n",
    "\n",
    "xc = 0.5 * (xv[1:] + xv[:-1])\n",
    "yc = 0.5 * (yv[1:] + yv[:-1])"
   ]
  },
  {
   "cell_type": "code",
   "execution_count": null,
   "metadata": {},
   "outputs": [],
   "source": [
    "u = np.diff(strmf, axis=0)\n",
    "v = -np.diff(strmf, axis=1)"
   ]
  },
  {
   "cell_type": "code",
   "execution_count": null,
   "metadata": {
    "tags": [
     "hide-input"
    ]
   },
   "outputs": [],
   "source": [
    "ds = xr.Dataset(\n",
    "    coords=dict(\n",
    "        XC=([\"Y\", \"X\"], xc),\n",
    "        YC=([\"Y\", \"X\"], yc),\n",
    "        XG=([\"Yp1\", \"Xp1\"], xg),\n",
    "        YG=([\"Yp1\", \"Xp1\"], yg),\n",
    "        rA=([\"Y\", \"X\"], np.ones_like(xc, float)),\n",
    "    ),\n",
    "    data_vars=dict(\n",
    "        UVELMASS=([\"Y\", \"Xp1\"], u),\n",
    "        VVELMASS=([\"Yp1\", \"X\"], v),\n",
    "        streamfunc=([\"Yp1\", \"Xp1\"], strmf),\n",
    "    ),\n",
    ")\n",
    "ds"
   ]
  },
  {
   "attachments": {},
   "cell_type": "markdown",
   "metadata": {},
   "source": [
    "## Prepare for the test\n",
    "\n",
    "First, we create the `seaduck.OceData` object"
   ]
  },
  {
   "cell_type": "code",
   "execution_count": null,
   "metadata": {},
   "outputs": [],
   "source": [
    "tub = sd.OceData(ds)"
   ]
  },
  {
   "attachments": {},
   "cell_type": "markdown",
   "metadata": {},
   "source": [
    "Then, initialize the particle position."
   ]
  },
  {
   "cell_type": "code",
   "execution_count": null,
   "metadata": {},
   "outputs": [],
   "source": [
    "num_particle = 8000\n",
    "np.random.seed(99)\n",
    "x = np.random.random(num_particle) * 1.6 - 0.8\n",
    "y = np.random.random(num_particle) * 1.8 - 0.9"
   ]
  },
  {
   "cell_type": "code",
   "execution_count": null,
   "metadata": {},
   "outputs": [],
   "source": [
    "pt = sd.Particle(\n",
    "    x=x, y=y, z=None, t=np.zeros_like(x), data=tub, wname=None, transport=True\n",
    ")"
   ]
  },
  {
   "attachments": {},
   "cell_type": "markdown",
   "metadata": {},
   "source": [
    "Finally, we need a proper kernel for interpolating stream function. The natural definition for this case is to interpolate using the four closest corner points."
   ]
  },
  {
   "cell_type": "code",
   "execution_count": null,
   "metadata": {},
   "outputs": [],
   "source": [
    "kkk = np.array([[0, 0], [0, 1], [1, 0], [1, 1]])\n",
    "\n",
    "gknw = sd.KnW(kkk, vkernel=\"nearest\", tkernel=\"nearest\")"
   ]
  },
  {
   "attachments": {},
   "cell_type": "markdown",
   "metadata": {},
   "source": [
    "## The actual test\n",
    "\n",
    "First we interpolate the streamfunction at the starting position."
   ]
  },
  {
   "cell_type": "code",
   "execution_count": null,
   "metadata": {},
   "outputs": [],
   "source": [
    "before = pt.interpolate(\"streamfunc\", gknw)"
   ]
  },
  {
   "attachments": {},
   "cell_type": "markdown",
   "metadata": {},
   "source": [
    "Now, simulate the particles forward for a decent amount of time."
   ]
  },
  {
   "cell_type": "code",
   "execution_count": null,
   "metadata": {},
   "outputs": [],
   "source": [
    "steps = 15\n",
    "stops, ps = pt.to_list_of_time(\n",
    "    normal_stops=np.linspace(0, 2 * steps * N, steps), update_stops=[]\n",
    ")"
   ]
  },
  {
   "attachments": {},
   "cell_type": "markdown",
   "metadata": {},
   "source": [
    "Now that, the particles are at a different position. Let's look at the stream functions again and compare."
   ]
  },
  {
   "cell_type": "code",
   "execution_count": null,
   "metadata": {},
   "outputs": [],
   "source": [
    "after = ps[-1].interpolate(\"streamfunc\", gknw)"
   ]
  },
  {
   "cell_type": "code",
   "execution_count": null,
   "metadata": {
    "tags": [
     "hide-input"
    ]
   },
   "outputs": [],
   "source": [
    "is_it_close = np.allclose(after, before, atol=1e-7)\n",
    "max_difference = np.max(np.abs(after - before))\n",
    "print(f\"Is the stream function conserved? {is_it_close}\")\n",
    "print(f\"The maximum difference is {max_difference }\")"
   ]
  },
  {
   "attachments": {},
   "cell_type": "markdown",
   "metadata": {},
   "source": [
    "To put that in perspective: The stream function ranges from 0 to around 0.6. So this is a small difference!"
   ]
  },
  {
   "attachments": {},
   "cell_type": "markdown",
   "metadata": {},
   "source": [
    "## If you're not convinced\n",
    "\n",
    "\"Hey, you just used your own function to test another function. I didn't see anything under the hood. \"\n",
    "\"Also, the stream function should be conserved along the **entire trajectory**. Not only the start and the end\"\n",
    "\n",
    "Well, here is a more visual way of proving my points.\n",
    "\n",
    "I am going to plot the trajectory of all the particles, and color them using the **initial** stream function.\n",
    "\n",
    "If the stream function is not conserved at any point, the color of the lines drawn (initial value of stream function) will not match that we plotted earlier (the actual value defined at that point)."
   ]
  },
  {
   "cell_type": "code",
   "execution_count": null,
   "metadata": {
    "tags": [
     "hide-input"
    ]
   },
   "outputs": [],
   "source": [
    "lons = []\n",
    "lats = []\n",
    "for ppp in ps:\n",
    "    lons.append(ppp.lon)\n",
    "    lats.append(ppp.lat)\n",
    "lons = np.array(lons)\n",
    "lats = np.array(lats)"
   ]
  },
  {
   "attachments": {},
   "cell_type": "markdown",
   "metadata": {},
   "source": [
    "Using the same color scheme as the previous plot"
   ]
  },
  {
   "cell_type": "code",
   "execution_count": null,
   "metadata": {},
   "outputs": [],
   "source": [
    "norm = colors.Normalize(vmin=0.0, vmax=0.6, clip=True)\n",
    "mapper = cm.ScalarMappable(norm=norm, cmap=cm.Oranges)"
   ]
  },
  {
   "cell_type": "code",
   "execution_count": null,
   "metadata": {
    "tags": [
     "hide-input"
    ]
   },
   "outputs": [],
   "source": [
    "for i in range(len(x)):\n",
    "    plt.plot(lons.T[i], lats.T[i], c=mapper.to_rgba(before[i]), lw=0.55)\n",
    "plt.gca().set_aspect(\"equal\")\n",
    "plt.xlim([-1, 1])\n",
    "plt.ylim([-1, 1])\n",
    "plt.xlabel(\"X\")\n",
    "plt.ylabel(\"Y\")\n",
    "plt.title(\"Streamline of particles advected by the very arbitrary eddy\")\n",
    "plt.show()"
   ]
  },
  {
   "attachments": {},
   "cell_type": "markdown",
   "metadata": {},
   "source": [
    "**Fig.1** The trajectories of particles advected by the very arbitrary eddy. The color denotes the initial value of stream function."
   ]
  }
 ],
 "metadata": {
  "celltoolbar": "Tags",
  "kernelspec": {
   "display_name": "Python 3 (ipykernel)",
   "language": "python",
   "name": "python3"
  },
  "language_info": {
   "codemirror_mode": {
    "name": "ipython",
    "version": 3
   },
   "file_extension": ".py",
   "mimetype": "text/x-python",
   "name": "python",
   "nbconvert_exporter": "python",
   "pygments_lexer": "ipython3",
   "version": "3.11.4"
  }
 },
 "nbformat": 4,
 "nbformat_minor": 4
}
