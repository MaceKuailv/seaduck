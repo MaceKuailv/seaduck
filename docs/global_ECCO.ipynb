{
 "cells": [
  {
   "cell_type": "markdown",
   "metadata": {},
   "source": [
    "# Lagrangian and Eulerian demonstration on ECCO\n",
    "\n",
    "`seaduck` Lagrangian particle demonstration. This version uses the ECCO MITgcm velocity field data available on SciServer.\n",
    "\n",
    "authors: Wenrui Jiang, Tom Haine Feb '23"
   ]
  },
  {
   "cell_type": "code",
   "execution_count": null,
   "metadata": {},
   "outputs": [],
   "source": [
    "import cartopy.crs as ccrs\n",
    "import matplotlib.pyplot as plt\n",
    "import numpy as np\n",
    "\n",
    "import seaduck as sd"
   ]
  },
  {
   "cell_type": "markdown",
   "metadata": {},
   "source": [
    "### The ECCO MITgcm run is a low-resolution global state estimate, available on SciServer. The simulation is opened using the OceanSpy package.\n",
    "\n",
    "Choose between the monthly-mean data ('ECCO') or the daily-mean data ('daily_ecco').\n",
    "\n",
    "### See: https://dev-poseidon-ocean.pantheonsite.io/products/datasets/."
   ]
  },
  {
   "cell_type": "code",
   "execution_count": null,
   "metadata": {
    "tags": []
   },
   "outputs": [],
   "source": [
    "# ecco = ospy.open_oceandataset.from_catalog(\"ECCO\")\n",
    "# ecco = ospy.open_oceandataset.from_catalog('daily_ecco')\n",
    "ecco = sd.utils.get_dataset(\"ecco\")\n",
    "ecco = sd.utils.process_ecco(ecco)"
   ]
  },
  {
   "cell_type": "code",
   "execution_count": null,
   "metadata": {},
   "outputs": [],
   "source": [
    "ecco"
   ]
  },
  {
   "cell_type": "markdown",
   "metadata": {},
   "source": [
    "### Initialize seaduck package. Then set the debug level."
   ]
  },
  {
   "cell_type": "code",
   "execution_count": null,
   "metadata": {
    "tags": []
   },
   "outputs": [],
   "source": [
    "sd.rcParam[\n",
    "    \"debug_level\"\n",
    "] = \"very_high\"  # Options are: 'high','very_high','not that high'"
   ]
  },
  {
   "cell_type": "markdown",
   "metadata": {},
   "source": [
    "### Specify the parameters for the particles (number, positions, start time)."
   ]
  },
  {
   "cell_type": "code",
   "execution_count": null,
   "metadata": {},
   "outputs": [],
   "source": [
    "# Define the extend of the box\n",
    "west = -19.0\n",
    "east = -9.0\n",
    "south = 57.0\n",
    "north = 63.0\n",
    "shallow = -10.0\n",
    "deep = -10.0\n",
    "\n",
    "time = \"1992-02-15\"\n",
    "\n",
    "Nlon = 20  # How many along longitudinal direction?\n",
    "Nlat = 20  # How many along latitudinal direction?\n",
    "Ndep = 1  # How many along vertical direction?\n",
    "\n",
    "x, y, z, t = sd.utils.easy_3d_cube(\n",
    "    (east, west, Nlon),\n",
    "    (south, north, Nlat),\n",
    "    (shallow, deep, Ndep),\n",
    "    time,\n",
    "    print_total_number=True,\n",
    ")"
   ]
  },
  {
   "cell_type": "code",
   "execution_count": null,
   "metadata": {},
   "outputs": [],
   "source": [
    "# x,y,z,t =\n",
    "# # Change the number of particles here\n",
    "# N = int(1e2)\n",
    "\n",
    "# # Change the vertical depth of the particles here\n",
    "# levels = np.array([-5])\n",
    "# sqrtN = int(np.sqrt(N))\n",
    "\n",
    "# # Change the longitude and latitude positions of the particles here\n",
    "# xx = np.linspace(-19, -9, sqrtN)\n",
    "# yy = np.linspace(63, 57, sqrtN)\n",
    "\n",
    "# # Compute intermediate grid variables\n",
    "# xxx, yyy = np.meshgrid(xx, yy)\n",
    "# x = xxx.ravel()\n",
    "# y = yyy.ravel()\n",
    "# x, z = np.meshgrid(x, levels)\n",
    "# y, z = np.meshgrid(y, levels)\n",
    "# x = x.ravel()\n",
    "# y = y.ravel()\n",
    "# z = z.ravel()\n",
    "\n",
    "# # Change the times here\n",
    "# start_time = \"1998-12-15\"\n",
    "# t = (\n",
    "#     np.array([np.datetime64(start_time) for i in x]) - np.datetime64(\"1970-01-01\")\n",
    "# ) / np.timedelta64(1, \"s\")"
   ]
  },
  {
   "cell_type": "markdown",
   "metadata": {},
   "source": [
    "#### Plot the particle positions"
   ]
  },
  {
   "cell_type": "code",
   "execution_count": null,
   "metadata": {
    "tags": []
   },
   "outputs": [],
   "source": [
    "ax = plt.axes(projection=ccrs.PlateCarree())\n",
    "ax.plot(x, y, \"r+\")\n",
    "ax.coastlines()\n",
    "ax.set_xlim([-25, 0])\n",
    "ax.set_ylim([50, 70])\n",
    "plt.show()"
   ]
  },
  {
   "cell_type": "markdown",
   "metadata": {},
   "source": [
    "### Let's explore the interpolation function in `seaduck`:"
   ]
  },
  {
   "cell_type": "code",
   "execution_count": null,
   "metadata": {
    "tags": []
   },
   "outputs": [],
   "source": [
    "help(sd.OceInterp)"
   ]
  },
  {
   "cell_type": "markdown",
   "metadata": {},
   "source": [
    "### Interpolate these ECCO fields onto the particle positions."
   ]
  },
  {
   "cell_type": "code",
   "execution_count": null,
   "metadata": {
    "tags": []
   },
   "outputs": [],
   "source": [
    "[s, (u, v), eta, mask] = sd.OceInterp(\n",
    "    ecco, [\"SALT\", (\"UVELMASS\", \"VVELMASS\"), \"ETAN\", \"maskC\"], x, y, z, t\n",
    ")"
   ]
  },
  {
   "cell_type": "markdown",
   "metadata": {},
   "source": [
    "### Plot the interpolated salinity field."
   ]
  },
  {
   "cell_type": "code",
   "execution_count": null,
   "metadata": {},
   "outputs": [],
   "source": [
    "ax = plt.axes(projection=ccrs.PlateCarree())\n",
    "c = ax.scatter(x, y, c=s)\n",
    "ax.coastlines()\n",
    "ax.set_xlim([-25, 0])\n",
    "ax.set_ylim([50, 70])\n",
    "plt.colorbar(c)\n",
    "plt.title(\"Salinity (psu)\")"
   ]
  },
  {
   "cell_type": "markdown",
   "metadata": {},
   "source": [
    "### Plot the interpolated $u$ field."
   ]
  },
  {
   "cell_type": "code",
   "execution_count": null,
   "metadata": {},
   "outputs": [],
   "source": [
    "ax = plt.axes(projection=ccrs.PlateCarree())\n",
    "c = ax.scatter(x, y, c=u)\n",
    "ax.coastlines()\n",
    "ax.set_xlim([-25, 0])\n",
    "ax.set_ylim([50, 70])\n",
    "plt.colorbar(c)\n",
    "plt.title(\"Zonal Velocity (m/s)\")"
   ]
  },
  {
   "cell_type": "markdown",
   "metadata": {},
   "source": [
    "### Plot the interpolated $\\\\eta$ field."
   ]
  },
  {
   "cell_type": "code",
   "execution_count": null,
   "metadata": {},
   "outputs": [],
   "source": [
    "ax = plt.axes(projection=ccrs.PlateCarree())\n",
    "c = ax.scatter(x, y, c=eta)\n",
    "ax.coastlines()\n",
    "ax.set_xlim([-25, 0])\n",
    "ax.set_ylim([50, 70])\n",
    "plt.colorbar(c)\n",
    "plt.title(\"Sea Surface Height (m)\")"
   ]
  },
  {
   "cell_type": "markdown",
   "metadata": {},
   "source": [
    "### Now compute Lagrangian trajectories for these particles.\n",
    "\n",
    "#### Define the `start_time` and `end_time`. Here the particles are integrated backwards in time."
   ]
  },
  {
   "cell_type": "code",
   "execution_count": null,
   "metadata": {},
   "outputs": [],
   "source": [
    "start_time = \"1992-01-17\"\n",
    "end_time = \"1992-03-12\"\n",
    "\n",
    "t_bnds = np.array(\n",
    "    [\n",
    "        np.datetime64(start_time) - np.datetime64(\"1970-01-01\"),\n",
    "        np.datetime64(end_time) - np.datetime64(\"1970-01-01\"),\n",
    "    ]\n",
    ") / np.timedelta64(1, \"s\")"
   ]
  },
  {
   "cell_type": "markdown",
   "metadata": {},
   "source": [
    "### Perform the particle trajectory simulation.\n",
    "\n",
    "#### Record the salinity along the particle trajectories as well as their (lat,lon) positions."
   ]
  },
  {
   "cell_type": "code",
   "execution_count": null,
   "metadata": {},
   "outputs": [],
   "source": [
    "stops, [s, raw, lat, lon] = sd.OceInterp(\n",
    "    ecco,\n",
    "    [\"SALT\", \"__particle.raw\", \"__particle.lat\", \"__particle.lon\"],\n",
    "    x,\n",
    "    y,\n",
    "    z,\n",
    "    t_bnds,\n",
    "    lagrangian=True,\n",
    "    return_pt_time=True,\n",
    "    lagrange_kwarg={\"save_raw\": True},\n",
    ")"
   ]
  },
  {
   "cell_type": "markdown",
   "metadata": {},
   "source": [
    "#### There are 4 output times. See also the diagnostic output from running the integration."
   ]
  },
  {
   "cell_type": "code",
   "execution_count": null,
   "metadata": {},
   "outputs": [],
   "source": [
    "stops"
   ]
  },
  {
   "cell_type": "markdown",
   "metadata": {},
   "source": [
    "#### The `raw` output is a vector of `OceInterp` objects with position information"
   ]
  },
  {
   "cell_type": "code",
   "execution_count": null,
   "metadata": {},
   "outputs": [],
   "source": [
    "raw"
   ]
  },
  {
   "cell_type": "markdown",
   "metadata": {},
   "source": [
    "### Plot the interpolated salinity field on the final particle positions."
   ]
  },
  {
   "cell_type": "code",
   "execution_count": null,
   "metadata": {},
   "outputs": [],
   "source": [
    "ax = plt.axes(projection=ccrs.PlateCarree())\n",
    "ax.scatter(lon[-1], lat[-1], c=s[-1], s=1)\n",
    "ax.coastlines()\n",
    "ax.set_xlim([-70, 0])\n",
    "ax.set_ylim([30, 70])\n",
    "plt.title(\"salinity map\")"
   ]
  },
  {
   "cell_type": "markdown",
   "metadata": {},
   "source": [
    "### There are some other `OceInterp` classes:\n",
    "\n",
    "#### 1. Kernel object"
   ]
  },
  {
   "cell_type": "code",
   "execution_count": null,
   "metadata": {},
   "outputs": [],
   "source": [
    "KnW = sd.kernel_weight.KnW"
   ]
  },
  {
   "cell_type": "markdown",
   "metadata": {},
   "source": [
    "#### Define derivative kernels for\n",
    "\n",
    "$\\\\partial / \\\\partial z$, $\\\\partial^2 / \\\\partial x^2$, and $\\\\partial / \\\\partial t$."
   ]
  },
  {
   "cell_type": "code",
   "execution_count": null,
   "metadata": {},
   "outputs": [],
   "source": [
    "default = KnW()\n",
    "dz_kernel = KnW(vkernel=\"dz\")\n",
    "dx2_kernel = KnW(\n",
    "    hkernel=\"dx\", h_order=2, inheritance=[[0, 1, 2, 3, 4, 5, 6, 7, 8]], tkernel=\"linear\"\n",
    ")\n",
    "dt_kernel = KnW(tkernel=\"dt\")"
   ]
  },
  {
   "cell_type": "markdown",
   "metadata": {},
   "source": [
    "#### Apply the kernels to the ECCO fields:"
   ]
  },
  {
   "cell_type": "code",
   "execution_count": null,
   "metadata": {},
   "outputs": [],
   "source": [
    "[dsdz, (d2udx2, dvdt)] = sd.OceInterp(\n",
    "    ecco,\n",
    "    {\"SALT\": dz_kernel, (\"UVELMASS\", \"VVELMASS\"): (dx2_kernel, dt_kernel)},\n",
    "    x,\n",
    "    y,\n",
    "    z,\n",
    "    t,\n",
    ")"
   ]
  },
  {
   "cell_type": "markdown",
   "metadata": {},
   "source": [
    "### Plot one of the differentiated fields on the initial particle positions."
   ]
  },
  {
   "cell_type": "code",
   "execution_count": null,
   "metadata": {},
   "outputs": [],
   "source": [
    "ax = plt.axes(projection=ccrs.PlateCarree())\n",
    "c = ax.scatter(x, y, c=d2udx2)\n",
    "ax.coastlines()\n",
    "ax.set_xlim([-25, 0])\n",
    "ax.set_ylim([50, 70])\n",
    "plt.colorbar(c)\n",
    "plt.title(\"Second Derivative of the Zonal Velocity (m/s per grid scale squared)\")"
   ]
  },
  {
   "cell_type": "code",
   "execution_count": null,
   "metadata": {},
   "outputs": [],
   "source": []
  }
 ],
 "metadata": {
  "kernelspec": {
   "display_name": "Python 3 (ipykernel)",
   "language": "python",
   "name": "python3"
  },
  "language_info": {
   "codemirror_mode": {
    "name": "ipython",
    "version": 3
   },
   "file_extension": ".py",
   "mimetype": "text/x-python",
   "name": "python",
   "nbconvert_exporter": "python",
   "pygments_lexer": "ipython3",
   "version": "3.9.7"
  }
 },
 "nbformat": 4,
 "nbformat_minor": 4
}
