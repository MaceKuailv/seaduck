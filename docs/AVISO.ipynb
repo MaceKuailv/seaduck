{
 "cells": [
  {
   "cell_type": "markdown",
   "id": "c6c93715",
   "metadata": {},
   "source": [
    "# Lagrangian particle demonstration in a periodic domain.\n",
    "\n",
    "**Particles are simulated in the Southern Ocean AVISO altimetrey velocity field.**\n",
    "\n",
    "Author: Wenrui Jiang, Tom Haine Feb '23"
   ]
  },
  {
   "cell_type": "code",
   "execution_count": null,
   "id": "c63f1559",
   "metadata": {
    "tags": []
   },
   "outputs": [],
   "source": [
    "import cartopy.crs as ccrs\n",
    "import matplotlib.pyplot as plt\n",
    "import numpy as np\n",
    "\n",
    "import seaduck as sd"
   ]
  },
  {
   "cell_type": "markdown",
   "id": "256affe3",
   "metadata": {},
   "source": [
    "### Loading data\n",
    "\n",
    "The AVISO velocity field dataset is a lat-lon grid with staggered velocity. It's a snapshot from a single time (see below). `seaduck.utils` provides a few datasets for testing and demonstration purposes. The corresponding dataset are called when the corresponding functions are called."
   ]
  },
  {
   "cell_type": "markdown",
   "id": "906f5971",
   "metadata": {},
   "source": [
    "<div class=\"alert alert-block alert-warning\">\n",
    "<b>Download:</b> If you are running this notebook for the first time, The dataset needs to be downloaded and cached, which can be a little slow.\n",
    "</div>"
   ]
  },
  {
   "cell_type": "code",
   "execution_count": null,
   "id": "c670efe2",
   "metadata": {
    "tags": []
   },
   "outputs": [],
   "source": [
    "ds = sd.utils.get_dataset(\"aviso\")\n",
    "ds"
   ]
  },
  {
   "cell_type": "markdown",
   "id": "e2300abc",
   "metadata": {},
   "source": [
    "Now, create the `OceData` object which provides methods to translate between lat-lon and grid-oriented coords. The model coords frequently needed are also cached. "
   ]
  },
  {
   "cell_type": "code",
   "execution_count": null,
   "id": "528f9f42",
   "metadata": {
    "tags": []
   },
   "outputs": [],
   "source": [
    "bathtub = sd.OceData(ds)"
   ]
  },
  {
   "cell_type": "markdown",
   "id": "c1f84484",
   "metadata": {},
   "source": [
    "The object also contains a `tp` (topology) object. It looks at the shape of the coordinate data. In this case, based on longitude range, it thinks the type is `x_periodic`, which is correct for the Southern Ocean."
   ]
  },
  {
   "cell_type": "code",
   "execution_count": null,
   "id": "08e23745",
   "metadata": {
    "tags": []
   },
   "outputs": [],
   "source": [
    "bathtub.tp.typ"
   ]
  },
  {
   "cell_type": "markdown",
   "id": "fd56bcf1",
   "metadata": {},
   "source": [
    "We've prepared the bathtub that the ducks are going to swim (passively drift) in. Now decide where and when to drop them. \n",
    "\n",
    "We are going to use a short-hand defined in `seaduck.utils` to define the initial position for simplicity. The returns are normal than four 1D `numpy` array of `lon, lat, dep`, and `time`. It is as simple as that."
   ]
  },
  {
   "cell_type": "code",
   "execution_count": null,
   "id": "4c4a6f6a",
   "metadata": {
    "tags": []
   },
   "outputs": [],
   "source": [
    "# Define the extend of the box\n",
    "west = -180.0\n",
    "east = 180.0\n",
    "south = -75.0\n",
    "north = -40.0\n",
    "shallow = -10.0\n",
    "deep = -10.0\n",
    "\n",
    "time = \"1970-01-01\"\n",
    "\n",
    "Nlon = 300  # How many along longitudinal direction?\n",
    "Nlat = 30  # How many along latitudinal direction?\n",
    "Ndep = 1  # How many along vertical direction?\n",
    "\n",
    "x, y, z, t = sd.utils.easy_3d_cube(\n",
    "    (west, east, Nlon),\n",
    "    (south, north, Nlat),\n",
    "    (shallow, deep, Ndep),\n",
    "    time,\n",
    "    print_total_number=True,\n",
    ")"
   ]
  },
  {
   "cell_type": "markdown",
   "id": "cd57d0a6",
   "metadata": {},
   "source": [
    "**Here is where the particles start on the map:**"
   ]
  },
  {
   "cell_type": "code",
   "execution_count": null,
   "id": "5c150e21",
   "metadata": {
    "tags": []
   },
   "outputs": [],
   "source": [
    "plt.figure(figsize=(15, 6))\n",
    "ax = plt.axes(projection=ccrs.PlateCarree(central_longitude=170.0))\n",
    "ax.plot(x, y, \"r+\", markersize=1, transform=ccrs.PlateCarree())\n",
    "ax.coastlines()\n",
    "plt.show()"
   ]
  },
  {
   "cell_type": "markdown",
   "id": "604c2561",
   "metadata": {},
   "source": [
    "The AVISO velocity data only has the horizontal velocity component. Or in other words, all the particles are assume to be at the same (implicit) level, which is the surface for this example. `seaduck` takes care of that by just setting:"
   ]
  },
  {
   "cell_type": "code",
   "execution_count": null,
   "id": "c64e79be",
   "metadata": {
    "tags": []
   },
   "outputs": [],
   "source": [
    "z = None"
   ]
  },
  {
   "cell_type": "markdown",
   "id": "1cbcc5c9",
   "metadata": {},
   "source": [
    "The AVISO velocity field is a snapshot and does not have a time dimension. Therefore, the time is only valid in a relative sense, i.e. how long has the simulation gone in \"real\" time.\n",
    "\n",
    "The standard format for time in `seaduck` is seconds since `1970-01-01 00:00` and could be negative. Remember what time is set as the initial time?"
   ]
  },
  {
   "cell_type": "code",
   "execution_count": null,
   "id": "73e5e169",
   "metadata": {
    "tags": []
   },
   "outputs": [],
   "source": [
    "all(t == 0)"
   ]
  },
  {
   "cell_type": "markdown",
   "id": "c164519e",
   "metadata": {},
   "source": [
    "Let's now define the duration of the simulation (end before start means integrate backwards in time). We can again use a short hand from `seaduck.utils`."
   ]
  },
  {
   "cell_type": "code",
   "execution_count": null,
   "id": "8421fbba",
   "metadata": {},
   "outputs": [],
   "source": [
    "tf = sd.utils.convert_time(\"1970-02-01\")"
   ]
  },
  {
   "cell_type": "markdown",
   "id": "9658dc2a",
   "metadata": {},
   "source": [
    "This is equivalent to:"
   ]
  },
  {
   "cell_type": "raw",
   "id": "9b874e11",
   "metadata": {
    "tags": []
   },
   "source": [
    "tf = (np.datetime64(\"1970-02-01\") - np.datetime64(\"1970-01-01\")) / np.timedelta64(\n",
    "    1, \"s\"\n",
    ")"
   ]
  },
  {
   "cell_type": "markdown",
   "id": "72f67743",
   "metadata": {},
   "source": [
    "We are only interested when the particle is still in the domain, we can disregard the ones left from the northern boundary by defining:"
   ]
  },
  {
   "cell_type": "code",
   "execution_count": null,
   "id": "60649e82",
   "metadata": {},
   "outputs": [],
   "source": [
    "def interested_in(p):\n",
    "    return np.logical_and(-74.5 < p.lat, p.lat < -45.5)"
   ]
  },
  {
   "cell_type": "markdown",
   "id": "907e4756",
   "metadata": {},
   "source": [
    "### Now create the `OceInterp.lagrangian.particle` object.\n",
    "\n",
    "We have all the information we need. The final step of preparation is to create the `seaduck.lagrangian.particle` object. We need to tell the `seaduck` where, when, which bathtub, as well as the name of the velocity components, because they are not great at guessing."
   ]
  },
  {
   "cell_type": "code",
   "execution_count": null,
   "id": "124718ad",
   "metadata": {
    "tags": []
   },
   "outputs": [],
   "source": [
    "p = sd.particle(\n",
    "    x=x,\n",
    "    y=y,\n",
    "    z=z,\n",
    "    t=t,\n",
    "    data=bathtub,\n",
    "    uname=\"u\",\n",
    "    vname=\"v\",\n",
    "    wname=None,\n",
    "    callback=interested_in,\n",
    ")\n",
    "p"
   ]
  },
  {
   "cell_type": "markdown",
   "id": "974b3cda",
   "metadata": {},
   "source": [
    "### Perform the particle trajectory simulation.\n",
    "\n",
    "Notice how we define when to dump output (`normal_stops`) and when to update the velocity field (`update_stops`). By default, the `stops` returned by the integration is the combination (union) of `normal_stops` and `update_stops`. `raw` is a list of `OceInterp.eulerian.position` objects with the same length as `stops`."
   ]
  },
  {
   "cell_type": "code",
   "execution_count": null,
   "id": "6d8ee9cc",
   "metadata": {
    "tags": []
   },
   "outputs": [],
   "source": [
    "normal_stops = np.linspace(t[0], tf, 10)\n",
    "stops, raw = p.to_list_of_time(normal_stops=normal_stops, update_stops=[])"
   ]
  },
  {
   "cell_type": "markdown",
   "id": "e3866e40",
   "metadata": {},
   "source": [
    "### Extract the information from the position objects."
   ]
  },
  {
   "cell_type": "code",
   "execution_count": null,
   "id": "25f862a7",
   "metadata": {
    "tags": []
   },
   "outputs": [],
   "source": [
    "lons = np.array([pt.lon for pt in raw]).T\n",
    "lats = np.array([pt.lat for pt in raw]).T"
   ]
  },
  {
   "cell_type": "markdown",
   "id": "0e8b0f78",
   "metadata": {},
   "source": [
    "Some particles passed through the dateline (periodic boundary). Here is some pre-processing to handle the plot."
   ]
  },
  {
   "cell_type": "code",
   "execution_count": null,
   "id": "0e0fc0c8",
   "metadata": {
    "tags": []
   },
   "outputs": [],
   "source": [
    "for i in range(len(lons)):\n",
    "    diff = np.diff(lons[i])\n",
    "\n",
    "    if max(abs(diff)) > 330:\n",
    "        for j in np.where(abs(diff) > 300)[0]:\n",
    "            j = int(j)\n",
    "            lons[i, j + 1 :] -= np.sign(diff[j]) * 360"
   ]
  },
  {
   "cell_type": "markdown",
   "id": "c7046590",
   "metadata": {},
   "source": [
    "## Here are the trajectories:"
   ]
  },
  {
   "cell_type": "code",
   "execution_count": null,
   "id": "5338b2f2",
   "metadata": {
    "tags": []
   },
   "outputs": [],
   "source": [
    "plt.figure(figsize=(24, 6))\n",
    "ax = plt.axes(projection=ccrs.PlateCarree(central_longitude=170.0))\n",
    "ax.plot(lons.T, lats.T, \"darkblue\", lw=0.3, transform=ccrs.PlateCarree())\n",
    "ax.coastlines()"
   ]
  },
  {
   "cell_type": "code",
   "execution_count": null,
   "id": "f5516722",
   "metadata": {},
   "outputs": [],
   "source": []
  }
 ],
 "metadata": {
  "kernelspec": {
   "display_name": "Python 3 (ipykernel)",
   "language": "python",
   "name": "python3"
  },
  "language_info": {
   "codemirror_mode": {
    "name": "ipython",
    "version": 3
   },
   "file_extension": ".py",
   "mimetype": "text/x-python",
   "name": "python",
   "nbconvert_exporter": "python",
   "pygments_lexer": "ipython3",
   "version": "3.9.7"
  }
 },
 "nbformat": 4,
 "nbformat_minor": 5
}
