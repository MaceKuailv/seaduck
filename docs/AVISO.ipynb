{
 "cells": [
  {
   "cell_type": "markdown",
   "metadata": {},
   "source": [
    "# Lagrangian particle demonstration in a periodic domain.\n",
    "\n",
    "**Particles are simulated in the Southern Ocean AVISO altimetrey velocity field.**\n",
    "\n",
    "Author: Wenrui Jiang, Tom Haine Feb '23"
   ]
  },
  {
   "cell_type": "code",
   "execution_count": 1,
   "metadata": {
    "tags": []
   },
   "outputs": [],
   "source": [
    "import cartopy.crs as ccrs\n",
    "import matplotlib.pyplot as plt\n",
    "import numpy as np\n",
    "import xarray as xr"
   ]
  },
  {
   "cell_type": "markdown",
   "metadata": {},
   "source": [
    "### Loading data\n",
    "\n",
    "The AVISO velocity field dataset is a lat-lon grid with staggered velocity. It's a snapshot from a single time (see below)."
   ]
  },
  {
   "cell_type": "markdown",
   "metadata": {},
   "source": [
    "<div class=\"alert alert-block alert-warning\">\n",
    "<b>Download:</b> Uncomment the following cell if you are running the notebook for the first time and does not have the data. \n",
    "</div>"
   ]
  },
  {
   "cell_type": "code",
   "execution_count": 2,
   "metadata": {},
   "outputs": [],
   "source": [
    "# !wget https://zenodo.org/record/7838605/files/aviso_example.nc"
   ]
  },
  {
   "cell_type": "code",
   "execution_count": 3,
   "metadata": {
    "tags": []
   },
   "outputs": [
    {
     "data": {
      "text/html": [
       "<div><svg style=\"position: absolute; width: 0; height: 0; overflow: hidden\">\n",
       "<defs>\n",
       "<symbol id=\"icon-database\" viewBox=\"0 0 32 32\">\n",
       "<path d=\"M16 0c-8.837 0-16 2.239-16 5v4c0 2.761 7.163 5 16 5s16-2.239 16-5v-4c0-2.761-7.163-5-16-5z\"></path>\n",
       "<path d=\"M16 17c-8.837 0-16-2.239-16-5v6c0 2.761 7.163 5 16 5s16-2.239 16-5v-6c0 2.761-7.163 5-16 5z\"></path>\n",
       "<path d=\"M16 26c-8.837 0-16-2.239-16-5v6c0 2.761 7.163 5 16 5s16-2.239 16-5v-6c0 2.761-7.163 5-16 5z\"></path>\n",
       "</symbol>\n",
       "<symbol id=\"icon-file-text2\" viewBox=\"0 0 32 32\">\n",
       "<path d=\"M28.681 7.159c-0.694-0.947-1.662-2.053-2.724-3.116s-2.169-2.030-3.116-2.724c-1.612-1.182-2.393-1.319-2.841-1.319h-15.5c-1.378 0-2.5 1.121-2.5 2.5v27c0 1.378 1.122 2.5 2.5 2.5h23c1.378 0 2.5-1.122 2.5-2.5v-19.5c0-0.448-0.137-1.23-1.319-2.841zM24.543 5.457c0.959 0.959 1.712 1.825 2.268 2.543h-4.811v-4.811c0.718 0.556 1.584 1.309 2.543 2.268zM28 29.5c0 0.271-0.229 0.5-0.5 0.5h-23c-0.271 0-0.5-0.229-0.5-0.5v-27c0-0.271 0.229-0.5 0.5-0.5 0 0 15.499-0 15.5 0v7c0 0.552 0.448 1 1 1h7v19.5z\"></path>\n",
       "<path d=\"M23 26h-14c-0.552 0-1-0.448-1-1s0.448-1 1-1h14c0.552 0 1 0.448 1 1s-0.448 1-1 1z\"></path>\n",
       "<path d=\"M23 22h-14c-0.552 0-1-0.448-1-1s0.448-1 1-1h14c0.552 0 1 0.448 1 1s-0.448 1-1 1z\"></path>\n",
       "<path d=\"M23 18h-14c-0.552 0-1-0.448-1-1s0.448-1 1-1h14c0.552 0 1 0.448 1 1s-0.448 1-1 1z\"></path>\n",
       "</symbol>\n",
       "</defs>\n",
       "</svg>\n",
       "<style>/* CSS stylesheet for displaying xarray objects in jupyterlab.\n",
       " *\n",
       " */\n",
       "\n",
       ":root {\n",
       "  --xr-font-color0: var(--jp-content-font-color0, rgba(0, 0, 0, 1));\n",
       "  --xr-font-color2: var(--jp-content-font-color2, rgba(0, 0, 0, 0.54));\n",
       "  --xr-font-color3: var(--jp-content-font-color3, rgba(0, 0, 0, 0.38));\n",
       "  --xr-border-color: var(--jp-border-color2, #e0e0e0);\n",
       "  --xr-disabled-color: var(--jp-layout-color3, #bdbdbd);\n",
       "  --xr-background-color: var(--jp-layout-color0, white);\n",
       "  --xr-background-color-row-even: var(--jp-layout-color1, white);\n",
       "  --xr-background-color-row-odd: var(--jp-layout-color2, #eeeeee);\n",
       "}\n",
       "\n",
       "html[theme=dark],\n",
       "body.vscode-dark {\n",
       "  --xr-font-color0: rgba(255, 255, 255, 1);\n",
       "  --xr-font-color2: rgba(255, 255, 255, 0.54);\n",
       "  --xr-font-color3: rgba(255, 255, 255, 0.38);\n",
       "  --xr-border-color: #1F1F1F;\n",
       "  --xr-disabled-color: #515151;\n",
       "  --xr-background-color: #111111;\n",
       "  --xr-background-color-row-even: #111111;\n",
       "  --xr-background-color-row-odd: #313131;\n",
       "}\n",
       "\n",
       ".xr-wrap {\n",
       "  display: block !important;\n",
       "  min-width: 300px;\n",
       "  max-width: 700px;\n",
       "}\n",
       "\n",
       ".xr-text-repr-fallback {\n",
       "  /* fallback to plain text repr when CSS is not injected (untrusted notebook) */\n",
       "  display: none;\n",
       "}\n",
       "\n",
       ".xr-header {\n",
       "  padding-top: 6px;\n",
       "  padding-bottom: 6px;\n",
       "  margin-bottom: 4px;\n",
       "  border-bottom: solid 1px var(--xr-border-color);\n",
       "}\n",
       "\n",
       ".xr-header > div,\n",
       ".xr-header > ul {\n",
       "  display: inline;\n",
       "  margin-top: 0;\n",
       "  margin-bottom: 0;\n",
       "}\n",
       "\n",
       ".xr-obj-type,\n",
       ".xr-array-name {\n",
       "  margin-left: 2px;\n",
       "  margin-right: 10px;\n",
       "}\n",
       "\n",
       ".xr-obj-type {\n",
       "  color: var(--xr-font-color2);\n",
       "}\n",
       "\n",
       ".xr-sections {\n",
       "  padding-left: 0 !important;\n",
       "  display: grid;\n",
       "  grid-template-columns: 150px auto auto 1fr 20px 20px;\n",
       "}\n",
       "\n",
       ".xr-section-item {\n",
       "  display: contents;\n",
       "}\n",
       "\n",
       ".xr-section-item input {\n",
       "  display: none;\n",
       "}\n",
       "\n",
       ".xr-section-item input + label {\n",
       "  color: var(--xr-disabled-color);\n",
       "}\n",
       "\n",
       ".xr-section-item input:enabled + label {\n",
       "  cursor: pointer;\n",
       "  color: var(--xr-font-color2);\n",
       "}\n",
       "\n",
       ".xr-section-item input:enabled + label:hover {\n",
       "  color: var(--xr-font-color0);\n",
       "}\n",
       "\n",
       ".xr-section-summary {\n",
       "  grid-column: 1;\n",
       "  color: var(--xr-font-color2);\n",
       "  font-weight: 500;\n",
       "}\n",
       "\n",
       ".xr-section-summary > span {\n",
       "  display: inline-block;\n",
       "  padding-left: 0.5em;\n",
       "}\n",
       "\n",
       ".xr-section-summary-in:disabled + label {\n",
       "  color: var(--xr-font-color2);\n",
       "}\n",
       "\n",
       ".xr-section-summary-in + label:before {\n",
       "  display: inline-block;\n",
       "  content: '►';\n",
       "  font-size: 11px;\n",
       "  width: 15px;\n",
       "  text-align: center;\n",
       "}\n",
       "\n",
       ".xr-section-summary-in:disabled + label:before {\n",
       "  color: var(--xr-disabled-color);\n",
       "}\n",
       "\n",
       ".xr-section-summary-in:checked + label:before {\n",
       "  content: '▼';\n",
       "}\n",
       "\n",
       ".xr-section-summary-in:checked + label > span {\n",
       "  display: none;\n",
       "}\n",
       "\n",
       ".xr-section-summary,\n",
       ".xr-section-inline-details {\n",
       "  padding-top: 4px;\n",
       "  padding-bottom: 4px;\n",
       "}\n",
       "\n",
       ".xr-section-inline-details {\n",
       "  grid-column: 2 / -1;\n",
       "}\n",
       "\n",
       ".xr-section-details {\n",
       "  display: none;\n",
       "  grid-column: 1 / -1;\n",
       "  margin-bottom: 5px;\n",
       "}\n",
       "\n",
       ".xr-section-summary-in:checked ~ .xr-section-details {\n",
       "  display: contents;\n",
       "}\n",
       "\n",
       ".xr-array-wrap {\n",
       "  grid-column: 1 / -1;\n",
       "  display: grid;\n",
       "  grid-template-columns: 20px auto;\n",
       "}\n",
       "\n",
       ".xr-array-wrap > label {\n",
       "  grid-column: 1;\n",
       "  vertical-align: top;\n",
       "}\n",
       "\n",
       ".xr-preview {\n",
       "  color: var(--xr-font-color3);\n",
       "}\n",
       "\n",
       ".xr-array-preview,\n",
       ".xr-array-data {\n",
       "  padding: 0 5px !important;\n",
       "  grid-column: 2;\n",
       "}\n",
       "\n",
       ".xr-array-data,\n",
       ".xr-array-in:checked ~ .xr-array-preview {\n",
       "  display: none;\n",
       "}\n",
       "\n",
       ".xr-array-in:checked ~ .xr-array-data,\n",
       ".xr-array-preview {\n",
       "  display: inline-block;\n",
       "}\n",
       "\n",
       ".xr-dim-list {\n",
       "  display: inline-block !important;\n",
       "  list-style: none;\n",
       "  padding: 0 !important;\n",
       "  margin: 0;\n",
       "}\n",
       "\n",
       ".xr-dim-list li {\n",
       "  display: inline-block;\n",
       "  padding: 0;\n",
       "  margin: 0;\n",
       "}\n",
       "\n",
       ".xr-dim-list:before {\n",
       "  content: '(';\n",
       "}\n",
       "\n",
       ".xr-dim-list:after {\n",
       "  content: ')';\n",
       "}\n",
       "\n",
       ".xr-dim-list li:not(:last-child):after {\n",
       "  content: ',';\n",
       "  padding-right: 5px;\n",
       "}\n",
       "\n",
       ".xr-has-index {\n",
       "  font-weight: bold;\n",
       "}\n",
       "\n",
       ".xr-var-list,\n",
       ".xr-var-item {\n",
       "  display: contents;\n",
       "}\n",
       "\n",
       ".xr-var-item > div,\n",
       ".xr-var-item label,\n",
       ".xr-var-item > .xr-var-name span {\n",
       "  background-color: var(--xr-background-color-row-even);\n",
       "  margin-bottom: 0;\n",
       "}\n",
       "\n",
       ".xr-var-item > .xr-var-name:hover span {\n",
       "  padding-right: 5px;\n",
       "}\n",
       "\n",
       ".xr-var-list > li:nth-child(odd) > div,\n",
       ".xr-var-list > li:nth-child(odd) > label,\n",
       ".xr-var-list > li:nth-child(odd) > .xr-var-name span {\n",
       "  background-color: var(--xr-background-color-row-odd);\n",
       "}\n",
       "\n",
       ".xr-var-name {\n",
       "  grid-column: 1;\n",
       "}\n",
       "\n",
       ".xr-var-dims {\n",
       "  grid-column: 2;\n",
       "}\n",
       "\n",
       ".xr-var-dtype {\n",
       "  grid-column: 3;\n",
       "  text-align: right;\n",
       "  color: var(--xr-font-color2);\n",
       "}\n",
       "\n",
       ".xr-var-preview {\n",
       "  grid-column: 4;\n",
       "}\n",
       "\n",
       ".xr-var-name,\n",
       ".xr-var-dims,\n",
       ".xr-var-dtype,\n",
       ".xr-preview,\n",
       ".xr-attrs dt {\n",
       "  white-space: nowrap;\n",
       "  overflow: hidden;\n",
       "  text-overflow: ellipsis;\n",
       "  padding-right: 10px;\n",
       "}\n",
       "\n",
       ".xr-var-name:hover,\n",
       ".xr-var-dims:hover,\n",
       ".xr-var-dtype:hover,\n",
       ".xr-attrs dt:hover {\n",
       "  overflow: visible;\n",
       "  width: auto;\n",
       "  z-index: 1;\n",
       "}\n",
       "\n",
       ".xr-var-attrs,\n",
       ".xr-var-data {\n",
       "  display: none;\n",
       "  background-color: var(--xr-background-color) !important;\n",
       "  padding-bottom: 5px !important;\n",
       "}\n",
       "\n",
       ".xr-var-attrs-in:checked ~ .xr-var-attrs,\n",
       ".xr-var-data-in:checked ~ .xr-var-data {\n",
       "  display: block;\n",
       "}\n",
       "\n",
       ".xr-var-data > table {\n",
       "  float: right;\n",
       "}\n",
       "\n",
       ".xr-var-name span,\n",
       ".xr-var-data,\n",
       ".xr-attrs {\n",
       "  padding-left: 25px !important;\n",
       "}\n",
       "\n",
       ".xr-attrs,\n",
       ".xr-var-attrs,\n",
       ".xr-var-data {\n",
       "  grid-column: 1 / -1;\n",
       "}\n",
       "\n",
       "dl.xr-attrs {\n",
       "  padding: 0;\n",
       "  margin: 0;\n",
       "  display: grid;\n",
       "  grid-template-columns: 125px auto;\n",
       "}\n",
       "\n",
       ".xr-attrs dt,\n",
       ".xr-attrs dd {\n",
       "  padding: 0;\n",
       "  margin: 0;\n",
       "  float: left;\n",
       "  padding-right: 10px;\n",
       "  width: auto;\n",
       "}\n",
       "\n",
       ".xr-attrs dt {\n",
       "  font-weight: normal;\n",
       "  grid-column: 1;\n",
       "}\n",
       "\n",
       ".xr-attrs dt:hover span {\n",
       "  display: inline-block;\n",
       "  background: var(--xr-background-color);\n",
       "  padding-right: 10px;\n",
       "}\n",
       "\n",
       ".xr-attrs dd {\n",
       "  grid-column: 2;\n",
       "  white-space: pre-wrap;\n",
       "  word-break: break-all;\n",
       "}\n",
       "\n",
       ".xr-icon-database,\n",
       ".xr-icon-file-text2 {\n",
       "  display: inline-block;\n",
       "  vertical-align: middle;\n",
       "  width: 1em;\n",
       "  height: 1.5em !important;\n",
       "  stroke-width: 0;\n",
       "  stroke: currentColor;\n",
       "  fill: currentColor;\n",
       "}\n",
       "</style><pre class='xr-text-repr-fallback'>&lt;xarray.Dataset&gt;\n",
       "Dimensions:  (X: 3600, Xp1: 3600, Y: 1700, Yp1: 1700, time: 1)\n",
       "Coordinates:\n",
       "  * X        (X) float32 -179.9 -179.8 -179.7 -179.6 ... 179.7 179.8 179.9 180.0\n",
       "  * Xp1      (Xp1) float32 -179.9 -179.9 -179.8 -179.6 ... 179.8 179.9 179.9\n",
       "  * Y        (Y) float32 -80.1 -80.0 -79.9 -79.8 -79.7 ... 89.5 89.6 89.7 89.8\n",
       "  * Yp1      (Yp1) float32 -80.15 -80.05 -79.95 -79.85 ... 89.55 89.65 89.75\n",
       "  * time     (time) datetime64[ns] 2017-01-01\n",
       "Data variables:\n",
       "    u        (Yp1, X) float64 ...\n",
       "    v        (Y, Xp1) float64 ...\n",
       "    lon      (X) float32 -179.9 -179.8 -179.7 -179.6 ... 179.7 179.8 179.9 180.0\n",
       "    lat      (Y) float32 -80.1 -80.0 -79.9 -79.8 -79.7 ... 89.5 89.6 89.7 89.8\n",
       "Attributes: (12/42)\n",
       "    Conventions:                     CF-1.6\n",
       "    Metadata_Conventions:            Unidata Dataset Discovery v1.0\n",
       "    cdm_data_type:                   Grid\n",
       "    comment:                         Sea Surface Height measured by Altimetry...\n",
       "    contact:                         aviso@altimetry.fr\n",
       "    creator_email:                   aviso@altimetry.fr\n",
       "    ...                              ...\n",
       "    summary:                         CLS Delayed-Time Level-4 sea surface hei...\n",
       "    time_coverage_duration:          P1D\n",
       "    time_coverage_end:               2017-01-01T12:00:00Z\n",
       "    time_coverage_resolution:        P1D\n",
       "    time_coverage_start:             2016-12-31T12:00:00Z\n",
       "    title:                           DT merged all satellites Global Gridded ...</pre><div class='xr-wrap' style='display:none'><div class='xr-header'><div class='xr-obj-type'>xarray.Dataset</div></div><ul class='xr-sections'><li class='xr-section-item'><input id='section-c2d0c1e8-d800-4772-8b79-1df49b3acada' class='xr-section-summary-in' type='checkbox' disabled ><label for='section-c2d0c1e8-d800-4772-8b79-1df49b3acada' class='xr-section-summary'  title='Expand/collapse section'>Dimensions:</label><div class='xr-section-inline-details'><ul class='xr-dim-list'><li><span class='xr-has-index'>X</span>: 3600</li><li><span class='xr-has-index'>Xp1</span>: 3600</li><li><span class='xr-has-index'>Y</span>: 1700</li><li><span class='xr-has-index'>Yp1</span>: 1700</li><li><span class='xr-has-index'>time</span>: 1</li></ul></div><div class='xr-section-details'></div></li><li class='xr-section-item'><input id='section-ef83b6eb-deee-414b-aea3-43757dcef920' class='xr-section-summary-in' type='checkbox'  checked><label for='section-ef83b6eb-deee-414b-aea3-43757dcef920' class='xr-section-summary' >Coordinates: <span>(5)</span></label><div class='xr-section-inline-details'></div><div class='xr-section-details'><ul class='xr-var-list'><li class='xr-var-item'><div class='xr-var-name'><span class='xr-has-index'>X</span></div><div class='xr-var-dims'>(X)</div><div class='xr-var-dtype'>float32</div><div class='xr-var-preview xr-preview'>-179.9 -179.8 ... 179.9 180.0</div><input id='attrs-b5c59910-a628-4ed4-be35-38af5f7e64f4' class='xr-var-attrs-in' type='checkbox' ><label for='attrs-b5c59910-a628-4ed4-be35-38af5f7e64f4' title='Show/Hide attributes'><svg class='icon xr-icon-file-text2'><use xlink:href='#icon-file-text2'></use></svg></label><input id='data-685576e8-9127-4b05-9b7b-f39eef68b127' class='xr-var-data-in' type='checkbox'><label for='data-685576e8-9127-4b05-9b7b-f39eef68b127' title='Show/Hide data repr'><svg class='icon xr-icon-database'><use xlink:href='#icon-database'></use></svg></label><div class='xr-var-attrs'><dl class='xr-attrs'><dt><span>axis :</span></dt><dd>X</dd><dt><span>bounds :</span></dt><dd>lon_bnds</dd><dt><span>long_name :</span></dt><dd>Longitude</dd><dt><span>standard_name :</span></dt><dd>longitude</dd><dt><span>units :</span></dt><dd>degrees_east</dd><dt><span>valid_max :</span></dt><dd>180.0</dd><dt><span>valid_min :</span></dt><dd>-179.89999389648438</dd></dl></div><div class='xr-var-data'><pre>array([-179.9, -179.8, -179.7, ...,  179.8,  179.9,  180. ], dtype=float32)</pre></div></li><li class='xr-var-item'><div class='xr-var-name'><span class='xr-has-index'>Xp1</span></div><div class='xr-var-dims'>(Xp1)</div><div class='xr-var-dtype'>float32</div><div class='xr-var-preview xr-preview'>-179.9 -179.9 ... 179.9 179.9</div><input id='attrs-be83f44b-1beb-4b86-a325-30598b002caf' class='xr-var-attrs-in' type='checkbox' disabled><label for='attrs-be83f44b-1beb-4b86-a325-30598b002caf' title='Show/Hide attributes'><svg class='icon xr-icon-file-text2'><use xlink:href='#icon-file-text2'></use></svg></label><input id='data-77fdce22-8e1a-4385-8df8-b68ec102e923' class='xr-var-data-in' type='checkbox'><label for='data-77fdce22-8e1a-4385-8df8-b68ec102e923' title='Show/Hide data repr'><svg class='icon xr-icon-database'><use xlink:href='#icon-database'></use></svg></label><div class='xr-var-attrs'><dl class='xr-attrs'></dl></div><div class='xr-var-data'><pre>array([-179.95, -179.85, -179.75, ...,  179.75,  179.85,  179.95],\n",
       "      dtype=float32)</pre></div></li><li class='xr-var-item'><div class='xr-var-name'><span class='xr-has-index'>Y</span></div><div class='xr-var-dims'>(Y)</div><div class='xr-var-dtype'>float32</div><div class='xr-var-preview xr-preview'>-80.1 -80.0 -79.9 ... 89.7 89.8</div><input id='attrs-6dc5355c-3539-43e0-a2d8-3e6c2252bce8' class='xr-var-attrs-in' type='checkbox' ><label for='attrs-6dc5355c-3539-43e0-a2d8-3e6c2252bce8' title='Show/Hide attributes'><svg class='icon xr-icon-file-text2'><use xlink:href='#icon-file-text2'></use></svg></label><input id='data-b7a0e67e-78e3-4fda-a9fa-d015b068897b' class='xr-var-data-in' type='checkbox'><label for='data-b7a0e67e-78e3-4fda-a9fa-d015b068897b' title='Show/Hide data repr'><svg class='icon xr-icon-database'><use xlink:href='#icon-database'></use></svg></label><div class='xr-var-attrs'><dl class='xr-attrs'><dt><span>axis :</span></dt><dd>Y</dd><dt><span>bounds :</span></dt><dd>lat_bnds</dd><dt><span>long_name :</span></dt><dd>Latitude</dd><dt><span>standard_name :</span></dt><dd>latitude</dd><dt><span>units :</span></dt><dd>degrees_north</dd><dt><span>valid_max :</span></dt><dd>89.80000152587891</dd><dt><span>valid_min :</span></dt><dd>-80.0999984741211</dd></dl></div><div class='xr-var-data'><pre>array([-80.1     , -80.      , -79.9     , ...,  89.6     ,  89.700005,\n",
       "        89.8     ], dtype=float32)</pre></div></li><li class='xr-var-item'><div class='xr-var-name'><span class='xr-has-index'>Yp1</span></div><div class='xr-var-dims'>(Yp1)</div><div class='xr-var-dtype'>float32</div><div class='xr-var-preview xr-preview'>-80.15 -80.05 ... 89.65 89.75</div><input id='attrs-e0b4fa91-fc37-41e7-8439-06495b8e473b' class='xr-var-attrs-in' type='checkbox' disabled><label for='attrs-e0b4fa91-fc37-41e7-8439-06495b8e473b' title='Show/Hide attributes'><svg class='icon xr-icon-file-text2'><use xlink:href='#icon-file-text2'></use></svg></label><input id='data-0388da1d-8531-4f41-b0b6-8732628134a4' class='xr-var-data-in' type='checkbox'><label for='data-0388da1d-8531-4f41-b0b6-8732628134a4' title='Show/Hide data repr'><svg class='icon xr-icon-database'><use xlink:href='#icon-database'></use></svg></label><div class='xr-var-attrs'><dl class='xr-attrs'></dl></div><div class='xr-var-data'><pre>array([-80.15    , -80.049995, -79.95    , ...,  89.55    ,  89.65    ,\n",
       "        89.75    ], dtype=float32)</pre></div></li><li class='xr-var-item'><div class='xr-var-name'><span class='xr-has-index'>time</span></div><div class='xr-var-dims'>(time)</div><div class='xr-var-dtype'>datetime64[ns]</div><div class='xr-var-preview xr-preview'>2017-01-01</div><input id='attrs-5e6dc3ab-5506-4443-9c2e-f2f750247b55' class='xr-var-attrs-in' type='checkbox' ><label for='attrs-5e6dc3ab-5506-4443-9c2e-f2f750247b55' title='Show/Hide attributes'><svg class='icon xr-icon-file-text2'><use xlink:href='#icon-file-text2'></use></svg></label><input id='data-36bfc59a-8782-4760-accf-3475e0b4a0ee' class='xr-var-data-in' type='checkbox'><label for='data-36bfc59a-8782-4760-accf-3475e0b4a0ee' title='Show/Hide data repr'><svg class='icon xr-icon-database'><use xlink:href='#icon-database'></use></svg></label><div class='xr-var-attrs'><dl class='xr-attrs'><dt><span>axis :</span></dt><dd>T</dd><dt><span>long_name :</span></dt><dd>Time</dd><dt><span>standard_name :</span></dt><dd>time</dd></dl></div><div class='xr-var-data'><pre>array([&#x27;2017-01-01T00:00:00.000000000&#x27;], dtype=&#x27;datetime64[ns]&#x27;)</pre></div></li></ul></div></li><li class='xr-section-item'><input id='section-4811b21a-7804-4223-954a-cde872aa20cb' class='xr-section-summary-in' type='checkbox'  checked><label for='section-4811b21a-7804-4223-954a-cde872aa20cb' class='xr-section-summary' >Data variables: <span>(4)</span></label><div class='xr-section-inline-details'></div><div class='xr-section-details'><ul class='xr-var-list'><li class='xr-var-item'><div class='xr-var-name'><span>u</span></div><div class='xr-var-dims'>(Yp1, X)</div><div class='xr-var-dtype'>float64</div><div class='xr-var-preview xr-preview'>...</div><input id='attrs-9134394f-6d44-47c4-8a38-e934010b626d' class='xr-var-attrs-in' type='checkbox' disabled><label for='attrs-9134394f-6d44-47c4-8a38-e934010b626d' title='Show/Hide attributes'><svg class='icon xr-icon-file-text2'><use xlink:href='#icon-file-text2'></use></svg></label><input id='data-bb0bd8ae-3976-4dfd-aed7-b3130ec04a36' class='xr-var-data-in' type='checkbox'><label for='data-bb0bd8ae-3976-4dfd-aed7-b3130ec04a36' title='Show/Hide data repr'><svg class='icon xr-icon-database'><use xlink:href='#icon-database'></use></svg></label><div class='xr-var-attrs'><dl class='xr-attrs'></dl></div><div class='xr-var-data'><pre>[6120000 values with dtype=float64]</pre></div></li><li class='xr-var-item'><div class='xr-var-name'><span>v</span></div><div class='xr-var-dims'>(Y, Xp1)</div><div class='xr-var-dtype'>float64</div><div class='xr-var-preview xr-preview'>...</div><input id='attrs-3428622c-b087-4e8d-9bb6-cfc99d63694d' class='xr-var-attrs-in' type='checkbox' disabled><label for='attrs-3428622c-b087-4e8d-9bb6-cfc99d63694d' title='Show/Hide attributes'><svg class='icon xr-icon-file-text2'><use xlink:href='#icon-file-text2'></use></svg></label><input id='data-3997615c-65f0-4266-ad61-213051008593' class='xr-var-data-in' type='checkbox'><label for='data-3997615c-65f0-4266-ad61-213051008593' title='Show/Hide data repr'><svg class='icon xr-icon-database'><use xlink:href='#icon-database'></use></svg></label><div class='xr-var-attrs'><dl class='xr-attrs'></dl></div><div class='xr-var-data'><pre>[6120000 values with dtype=float64]</pre></div></li><li class='xr-var-item'><div class='xr-var-name'><span>lon</span></div><div class='xr-var-dims'>(X)</div><div class='xr-var-dtype'>float32</div><div class='xr-var-preview xr-preview'>...</div><input id='attrs-df5d8697-d5f8-47da-886c-d1cacda93cb7' class='xr-var-attrs-in' type='checkbox' ><label for='attrs-df5d8697-d5f8-47da-886c-d1cacda93cb7' title='Show/Hide attributes'><svg class='icon xr-icon-file-text2'><use xlink:href='#icon-file-text2'></use></svg></label><input id='data-4d5392b9-320c-4e3e-b34c-4c7041f48dd5' class='xr-var-data-in' type='checkbox'><label for='data-4d5392b9-320c-4e3e-b34c-4c7041f48dd5' title='Show/Hide data repr'><svg class='icon xr-icon-database'><use xlink:href='#icon-database'></use></svg></label><div class='xr-var-attrs'><dl class='xr-attrs'><dt><span>axis :</span></dt><dd>X</dd><dt><span>bounds :</span></dt><dd>lon_bnds</dd><dt><span>long_name :</span></dt><dd>Longitude</dd><dt><span>standard_name :</span></dt><dd>longitude</dd><dt><span>units :</span></dt><dd>degrees_east</dd><dt><span>valid_max :</span></dt><dd>180.0</dd><dt><span>valid_min :</span></dt><dd>-179.89999389648438</dd></dl></div><div class='xr-var-data'><pre>array([-179.9, -179.8, -179.7, ...,  179.8,  179.9,  180. ], dtype=float32)</pre></div></li><li class='xr-var-item'><div class='xr-var-name'><span>lat</span></div><div class='xr-var-dims'>(Y)</div><div class='xr-var-dtype'>float32</div><div class='xr-var-preview xr-preview'>...</div><input id='attrs-14db30b9-6403-4e77-87be-654afb060381' class='xr-var-attrs-in' type='checkbox' ><label for='attrs-14db30b9-6403-4e77-87be-654afb060381' title='Show/Hide attributes'><svg class='icon xr-icon-file-text2'><use xlink:href='#icon-file-text2'></use></svg></label><input id='data-89ff8bf6-f7d6-4ad5-a727-2d405ba3d430' class='xr-var-data-in' type='checkbox'><label for='data-89ff8bf6-f7d6-4ad5-a727-2d405ba3d430' title='Show/Hide data repr'><svg class='icon xr-icon-database'><use xlink:href='#icon-database'></use></svg></label><div class='xr-var-attrs'><dl class='xr-attrs'><dt><span>axis :</span></dt><dd>Y</dd><dt><span>bounds :</span></dt><dd>lat_bnds</dd><dt><span>long_name :</span></dt><dd>Latitude</dd><dt><span>standard_name :</span></dt><dd>latitude</dd><dt><span>units :</span></dt><dd>degrees_north</dd><dt><span>valid_max :</span></dt><dd>89.80000152587891</dd><dt><span>valid_min :</span></dt><dd>-80.0999984741211</dd></dl></div><div class='xr-var-data'><pre>array([-80.1     , -80.      , -79.9     , ...,  89.6     ,  89.700005,\n",
       "        89.8     ], dtype=float32)</pre></div></li></ul></div></li><li class='xr-section-item'><input id='section-ee685883-f357-4b3d-944b-0302666905d4' class='xr-section-summary-in' type='checkbox'  ><label for='section-ee685883-f357-4b3d-944b-0302666905d4' class='xr-section-summary' >Attributes: <span>(42)</span></label><div class='xr-section-inline-details'></div><div class='xr-section-details'><dl class='xr-attrs'><dt><span>Conventions :</span></dt><dd>CF-1.6</dd><dt><span>Metadata_Conventions :</span></dt><dd>Unidata Dataset Discovery v1.0</dd><dt><span>cdm_data_type :</span></dt><dd>Grid</dd><dt><span>comment :</span></dt><dd>Sea Surface Height measured by Altimetry and derived variables</dd><dt><span>contact :</span></dt><dd>aviso@altimetry.fr</dd><dt><span>creator_email :</span></dt><dd>aviso@altimetry.fr</dd><dt><span>creator_name :</span></dt><dd>SSALTO/DUACS-MR</dd><dt><span>creator_url :</span></dt><dd>http://www.aviso.altimetry.fr</dd><dt><span>date_created :</span></dt><dd>2021-03-18T17:28:05Z</dd><dt><span>date_issued :</span></dt><dd>2021-03-18T17:28:05Z</dd><dt><span>date_modified :</span></dt><dd>2021-03-18T17:28:05Z</dd><dt><span>geospatial_lat_max :</span></dt><dd>89.80000152587891</dd><dt><span>geospatial_lat_min :</span></dt><dd>-80.0999984741211</dd><dt><span>geospatial_lat_resolution :</span></dt><dd>0.09999999999999432</dd><dt><span>geospatial_lat_units :</span></dt><dd>degrees_north</dd><dt><span>geospatial_lon_max :</span></dt><dd>180.0</dd><dt><span>geospatial_lon_min :</span></dt><dd>-179.89999389648438</dd><dt><span>geospatial_lon_resolution :</span></dt><dd>0.1</dd><dt><span>geospatial_lon_units :</span></dt><dd>degrees_east</dd><dt><span>geospatial_vertical_max :</span></dt><dd>0.0</dd><dt><span>geospatial_vertical_min :</span></dt><dd>0.0</dd><dt><span>geospatial_vertical_positive :</span></dt><dd>down</dd><dt><span>geospatial_vertical_resolution :</span></dt><dd>point</dd><dt><span>geospatial_vertical_units :</span></dt><dd>m</dd><dt><span>history :</span></dt><dd>2021-03-18 17:28:12Z: Creation</dd><dt><span>institution :</span></dt><dd>CLS, CNES</dd><dt><span>keywords :</span></dt><dd>Oceans &gt; Ocean Topography &gt; Sea Surface Height</dd><dt><span>keywords_vocabulary :</span></dt><dd>NetCDF COARDS Climate and Forecast Standard Names</dd><dt><span>platform :</span></dt><dd>Altika OSTM/Jason-2 Haiyang-2A Cryosat-2 Jason-3 Sentinel-3A Sentinel-3B</dd><dt><span>processing_level :</span></dt><dd>L4</dd><dt><span>product_version :</span></dt><dd>1.0</dd><dt><span>project :</span></dt><dd>SSALTO/DUACS-MR</dd><dt><span>reference :</span></dt><dd>http://www.aviso.altimetry.fr</dd><dt><span>source :</span></dt><dd>Altimetry measurements</dd><dt><span>ssalto_duacs_comment :</span></dt><dd>The reference mission used for the altimeter inter-calibration processing is Topex/Poseidon between 1993-01-01 and 2002-04-23, Jason-1 between 2002-04-24 and 2008-10-18, OSTM/Jason-2 between 2008-10-19 and 2016-06-25, Jason-3 since 2016-06-25.</dd><dt><span>standard_name_vocabulary :</span></dt><dd>NetCDF Climate and Forecast (CF) Metadata Convention Standard Name Table v37</dd><dt><span>summary :</span></dt><dd>CLS Delayed-Time Level-4 sea surface height and derived variables measured by multi-satellite altimetry observations over the Global Ocean. Merging method is based on Multiscale interpolation (Ubelmann et al., 2021)</dd><dt><span>time_coverage_duration :</span></dt><dd>P1D</dd><dt><span>time_coverage_end :</span></dt><dd>2017-01-01T12:00:00Z</dd><dt><span>time_coverage_resolution :</span></dt><dd>P1D</dd><dt><span>time_coverage_start :</span></dt><dd>2016-12-31T12:00:00Z</dd><dt><span>title :</span></dt><dd>DT merged all satellites Global Gridded CLS Sea Surface Height L4 product and derived variables</dd></dl></div></li></ul></div></div>"
      ],
      "text/plain": [
       "<xarray.Dataset>\n",
       "Dimensions:  (X: 3600, Xp1: 3600, Y: 1700, Yp1: 1700, time: 1)\n",
       "Coordinates:\n",
       "  * X        (X) float32 -179.9 -179.8 -179.7 -179.6 ... 179.7 179.8 179.9 180.0\n",
       "  * Xp1      (Xp1) float32 -179.9 -179.9 -179.8 -179.6 ... 179.8 179.9 179.9\n",
       "  * Y        (Y) float32 -80.1 -80.0 -79.9 -79.8 -79.7 ... 89.5 89.6 89.7 89.8\n",
       "  * Yp1      (Yp1) float32 -80.15 -80.05 -79.95 -79.85 ... 89.55 89.65 89.75\n",
       "  * time     (time) datetime64[ns] 2017-01-01\n",
       "Data variables:\n",
       "    u        (Yp1, X) float64 ...\n",
       "    v        (Y, Xp1) float64 ...\n",
       "    lon      (X) float32 ...\n",
       "    lat      (Y) float32 ...\n",
       "Attributes: (12/42)\n",
       "    Conventions:                     CF-1.6\n",
       "    Metadata_Conventions:            Unidata Dataset Discovery v1.0\n",
       "    cdm_data_type:                   Grid\n",
       "    comment:                         Sea Surface Height measured by Altimetry...\n",
       "    contact:                         aviso@altimetry.fr\n",
       "    creator_email:                   aviso@altimetry.fr\n",
       "    ...                              ...\n",
       "    summary:                         CLS Delayed-Time Level-4 sea surface hei...\n",
       "    time_coverage_duration:          P1D\n",
       "    time_coverage_end:               2017-01-01T12:00:00Z\n",
       "    time_coverage_resolution:        P1D\n",
       "    time_coverage_start:             2016-12-31T12:00:00Z\n",
       "    title:                           DT merged all satellites Global Gridded ..."
      ]
     },
     "execution_count": 3,
     "metadata": {},
     "output_type": "execute_result"
    }
   ],
   "source": [
    "ds = xr.open_dataset(\"../tests/Data/aviso_example.nc\")\n",
    "ds"
   ]
  },
  {
   "cell_type": "markdown",
   "metadata": {
    "execution": {
     "iopub.execute_input": "2023-03-05T20:24:03.520666Z",
     "iopub.status.busy": "2023-03-05T20:24:03.513258Z",
     "iopub.status.idle": "2023-03-05T20:24:03.618360Z",
     "shell.execute_reply": "2023-03-05T20:24:03.615989Z",
     "shell.execute_reply.started": "2023-03-05T20:24:03.518195Z"
    }
   },
   "source": [
    "### Initialize OceInterp package. Then create the `OceData` object which provides methods to translate between lat-lon and grid-oriented coords"
   ]
  },
  {
   "cell_type": "code",
   "execution_count": 4,
   "metadata": {
    "tags": []
   },
   "outputs": [],
   "source": [
    "import seaduck as sd\n",
    "\n",
    "oce = sd.OceData(ds)"
   ]
  },
  {
   "cell_type": "code",
   "execution_count": 16,
   "metadata": {},
   "outputs": [
    {
     "data": {
      "text/plain": [
       "False"
      ]
     },
     "execution_count": 16,
     "metadata": {},
     "output_type": "execute_result"
    }
   ],
   "source": [
    "oce.too_large"
   ]
  },
  {
   "cell_type": "markdown",
   "metadata": {},
   "source": [
    "#### The object also contains a `tp` (topology) object. It looks at the shape of the coordinate data. In this case, based on longitude range, it thinks the type is `x_periodic`, which is correct for the Southern Ocean."
   ]
  },
  {
   "cell_type": "code",
   "execution_count": 5,
   "metadata": {
    "tags": []
   },
   "outputs": [
    {
     "data": {
      "text/plain": [
       "'x_periodic'"
      ]
     },
     "execution_count": 5,
     "metadata": {},
     "output_type": "execute_result"
    }
   ],
   "source": [
    "oce.tp.typ"
   ]
  },
  {
   "cell_type": "markdown",
   "metadata": {},
   "source": [
    "### We've prepared the bathtub that the ducks are going to swim (passively drift) in. Now decide where and when to drop them. \n",
    "\n",
    "#### We need a 1D `numpy` array of `lon, lat, dep`, and `time`. It is as simple as that."
   ]
  },
  {
   "cell_type": "code",
   "execution_count": 6,
   "metadata": {
    "tags": []
   },
   "outputs": [],
   "source": [
    "# Set the number of particles here.\n",
    "N = int(9e2)\n",
    "\n",
    "# Increase this if you want more in x direction.\n",
    "skew = 3\n",
    "\n",
    "# Change the vertical depth of the particles here.\n",
    "sqrtN = int(np.sqrt(N))\n",
    "\n",
    "# Change the horizontal range here.\n",
    "x = np.linspace(-180, 180, sqrtN * skew)\n",
    "y = np.linspace(-50, -70, sqrtN // skew)"
   ]
  },
  {
   "cell_type": "markdown",
   "metadata": {
    "execution": {
     "iopub.execute_input": "2023-03-05T20:30:00.368755Z",
     "iopub.status.busy": "2023-03-05T20:30:00.366873Z",
     "iopub.status.idle": "2023-03-05T20:30:00.382148Z",
     "shell.execute_reply": "2023-03-05T20:30:00.379165Z",
     "shell.execute_reply.started": "2023-03-05T20:30:00.368669Z"
    }
   },
   "source": [
    "### Here is where the particles start on the map:"
   ]
  },
  {
   "cell_type": "code",
   "execution_count": 7,
   "metadata": {
    "tags": []
   },
   "outputs": [
    {
     "name": "stderr",
     "output_type": "stream",
     "text": [
      "/home/idies/miniconda3/envs/Oceanography/lib/python3.9/site-packages/cartopy/crs.py:228: ShapelyDeprecationWarning: __len__ for multi-part geometries is deprecated and will be removed in Shapely 2.0. Check the length of the `geoms` property instead to get the  number of parts of a multi-part geometry.\n",
      "  if len(multi_line_string) > 1:\n",
      "/home/idies/miniconda3/envs/Oceanography/lib/python3.9/site-packages/cartopy/crs.py:239: ShapelyDeprecationWarning: __len__ for multi-part geometries is deprecated and will be removed in Shapely 2.0. Check the length of the `geoms` property instead to get the  number of parts of a multi-part geometry.\n",
      "  line_strings = list(multi_line_string)\n",
      "/home/idies/miniconda3/envs/Oceanography/lib/python3.9/site-packages/cartopy/crs.py:239: ShapelyDeprecationWarning: Iteration over multi-part geometries is deprecated and will be removed in Shapely 2.0. Use the `geoms` property to access the constituent parts of a multi-part geometry.\n",
      "  line_strings = list(multi_line_string)\n",
      "/home/idies/miniconda3/envs/Oceanography/lib/python3.9/site-packages/cartopy/crs.py:280: ShapelyDeprecationWarning: Iteration over multi-part geometries is deprecated and will be removed in Shapely 2.0. Use the `geoms` property to access the constituent parts of a multi-part geometry.\n",
      "  for line in multi_line_string:\n",
      "/home/idies/miniconda3/envs/Oceanography/lib/python3.9/site-packages/cartopy/crs.py:347: ShapelyDeprecationWarning: __len__ for multi-part geometries is deprecated and will be removed in Shapely 2.0. Check the length of the `geoms` property instead to get the  number of parts of a multi-part geometry.\n",
      "  if len(p_mline) > 0:\n",
      "/home/idies/miniconda3/envs/Oceanography/lib/python3.9/site-packages/cartopy/crs.py:385: ShapelyDeprecationWarning: Iteration over multi-part geometries is deprecated and will be removed in Shapely 2.0. Use the `geoms` property to access the constituent parts of a multi-part geometry.\n",
      "  line_strings.extend(multi_line_string)\n",
      "/home/idies/miniconda3/envs/Oceanography/lib/python3.9/site-packages/cartopy/crs.py:385: ShapelyDeprecationWarning: __len__ for multi-part geometries is deprecated and will be removed in Shapely 2.0. Check the length of the `geoms` property instead to get the  number of parts of a multi-part geometry.\n",
      "  line_strings.extend(multi_line_string)\n"
     ]
    },
    {
     "data": {
      "image/png": "[encoded data removed]",
      "text/plain": [
       "<Figure size 1080x432 with 1 Axes>"
      ]
     },
     "metadata": {
      "needs_background": "light"
     },
     "output_type": "display_data"
    }
   ],
   "source": [
    "x, y = np.meshgrid(x, y)\n",
    "x = x.ravel()\n",
    "y = y.ravel()\n",
    "plt.figure(figsize=(15, 6))\n",
    "ax = plt.axes(projection=ccrs.PlateCarree(central_longitude=170.0))\n",
    "ax.plot(x, y, \"r+\", markersize=1, transform=ccrs.PlateCarree())\n",
    "ax.coastlines()\n",
    "plt.show()"
   ]
  },
  {
   "cell_type": "markdown",
   "metadata": {},
   "source": [
    "### The AVISO velocity data only has the horizontal velocity component, and is independent of depth. So the `z` dimension is not needed."
   ]
  },
  {
   "cell_type": "code",
   "execution_count": 8,
   "metadata": {
    "tags": []
   },
   "outputs": [],
   "source": [
    "z = None"
   ]
  },
  {
   "cell_type": "markdown",
   "metadata": {},
   "source": [
    "### The AVISO velocity field is a snapshot and does not have a time dimension. Therefore, the time here only refers to the particle trajectories.\n",
    "\n",
    "#### The date does not matter, but the duration does (see below). The standard format is seconds since `1970-01-01 00:00`."
   ]
  },
  {
   "cell_type": "code",
   "execution_count": 9,
   "metadata": {
    "tags": []
   },
   "outputs": [],
   "source": [
    "start_time = \"2000-01-01\"\n",
    "t = (\n",
    "    np.array([np.datetime64(start_time) for i in x]) - np.datetime64(\"1970-01-01\")\n",
    ") / np.timedelta64(1, \"s\")"
   ]
  },
  {
   "cell_type": "markdown",
   "metadata": {},
   "source": [
    "### Define the duration of the simulation (end before start means integrate backwards in time)."
   ]
  },
  {
   "cell_type": "code",
   "execution_count": 10,
   "metadata": {
    "tags": []
   },
   "outputs": [],
   "source": [
    "tf = (np.datetime64(\"2000-02-01\") - np.datetime64(\"1970-01-01\")) / np.timedelta64(\n",
    "    1, \"s\"\n",
    ")"
   ]
  },
  {
   "cell_type": "markdown",
   "metadata": {},
   "source": [
    "### Now create the `OceInterp.lagrangian.particle` object."
   ]
  },
  {
   "cell_type": "code",
   "execution_count": 11,
   "metadata": {
    "tags": []
   },
   "outputs": [
    {
     "data": {
      "text/plain": [
       "<seaduck.lagrangian.particle at 0x7f76f85392e0>"
      ]
     },
     "execution_count": 11,
     "metadata": {},
     "output_type": "execute_result"
    }
   ],
   "source": [
    "p = sd.particle(\n",
    "    x=x,\n",
    "    y=y,\n",
    "    z=z,\n",
    "    t=t,\n",
    "    data=oce,\n",
    "    # save_raw = True,\n",
    "    # transport = True,\n",
    "    uname=\"u\",\n",
    "    vname=\"v\",\n",
    "    wname=None,\n",
    ")\n",
    "p"
   ]
  },
  {
   "cell_type": "markdown",
   "metadata": {},
   "source": [
    "### Perform the particle trajectory simulation.\n",
    "\n",
    "#### Notice how we define when to dump output (`normal_stops`) and when to update the velocity field (`update_stops`). By default, the `stops` returned by the integration is the combination (union) of `normal_stops` and `update_stops`. `raw` is a list of `OceInterp.eulerian.position` objects with the same length as `stops`."
   ]
  },
  {
   "cell_type": "code",
   "execution_count": 12,
   "metadata": {
    "tags": []
   },
   "outputs": [
    {
     "name": "stdout",
     "output_type": "stream",
     "text": [
      "\n",
      "2000-01-01T00:00:00\n",
      "0 left \n",
      "2000-01-04T10:40:00\n",
      "900 left 776 left 693 left 578 left 490 left 409 left 338 left 284 left 250 left 221 left 187 left 160 left 129 left 109 left 93 left 79 left 59 left 46 left 39 left 37 left 27 left 20 left 17 left 13 left 11 left 10 left 9 left 9 left 9 left 6 left 6 left 5 left 4 left 3 left 2 left 2 left 2 left 1 left 1 left 1 left \n",
      "2000-01-07T21:20:00\n",
      "900 left 773 left 666 left 537 left 442 left 366 left 315 left 267 left 225 left 188 left 162 left 139 left 113 left 96 left 77 left 65 left 57 left 43 left 37 left 27 left 20 left 16 left 11 left 10 left 9 left 7 left 5 left 4 left 3 left 3 left 3 left 3 left 2 left 2 left 1 left 1 left 1 left 1 left \n",
      "2000-01-11T08:00:00\n",
      "900 left 779 left 654 left 547 left 458 left 385 left 331 left 293 left 249 left 202 left 171 left 142 left 119 left 111 left 95 left 86 left 69 left 62 left 49 left 38 left 31 left 22 left 17 left 14 left 11 left 9 left 9 left 8 left 7 left 7 left 5 left 5 left 5 left 2 left 2 left 2 left 2 left 1 left 1 left 1 left \n",
      "2000-01-14T18:40:00\n",
      "900 left 785 left 667 left 556 left 450 left 385 left 337 left 275 left 238 left 208 left 172 left 141 left 126 left 104 left 93 left 74 left 62 left 54 left 43 left 37 left 24 left 17 left 13 left 7 left 7 left 6 left 6 left 6 left 3 left 2 left 2 left 2 left 2 left 2 left 2 left 1 left 1 left \n",
      "2000-01-18T05:20:00\n",
      "900 left 779 left 661 left 533 left 444 left 384 left 328 left 276 left 233 left 200 left 171 left 147 left 123 left 100 left 88 left 68 left 52 left 43 left 36 left 34 left 29 left 22 left 19 left 18 left 16 left 14 left 12 left 12 left 10 left 7 left 6 left 4 left 2 left 2 left 2 left 2 left 2 left 2 left 2 left 1 left 1 left 1 left 1 left 1 left 1 left 1 left 1 left 1 left 1 left 1 left 1 left 1 left 1 left \n",
      "2000-01-21T16:00:00\n",
      "900 left 778 left 657 left 538 left 456 left 384 left 336 left 302 left 259 left 222 left 184 left 152 left 131 left 110 left 94 left 79 left 67 left 55 left 46 left 38 left 34 left 28 left 26 left 21 left 15 left 11 left 9 left 7 left 6 left 3 left 3 left 1 left 1 left 1 left 1 left 1 left \n",
      "2000-01-25T02:40:00\n",
      "900 left 775 left 662 left 543 left 449 left 398 left 359 left 305 left 260 left 232 left 203 left 168 left 140 left 121 left 107 left 91 left 71 left 59 left 44 left 37 left 31 left 25 left 24 left 20 left 15 left 13 left 8 left 8 left 5 left 5 left 5 left 2 left 2 left 1 left 1 left 1 left 1 left 1 left \n",
      "2000-01-28T13:20:00\n",
      "900 left 785 left 667 left 545 left 462 left 395 left 343 left 302 left 258 left 224 left 197 left 169 left 152 left 138 left 120 left 98 left 91 left 72 left 56 left 46 left 40 left 33 left 31 left 28 left 24 left 19 left 17 left 16 left 13 left 12 left 9 left 6 left 4 left 4 left 3 left 2 left 1 left 1 left 1 left 1 left 1 left \n",
      "2000-02-01T00:00:00\n",
      "900 left 764 left 650 left 535 left 461 left 401 left 348 left 301 left 258 left 218 left 190 left 164 left 151 left 130 left 117 left 103 left 82 left 67 left 51 left 45 left 33 left 25 left 24 left 20 left 16 left 13 left 10 left 7 left 6 left 4 left 3 left 2 left 2 left 2 left 2 left 2 left 2 left 2 left 2 left 2 left 2 left 2 left 2 left 2 left 2 left 1 left 1 left 1 left 1 left 1 left 1 left 1 left 1 left 1 left "
     ]
    }
   ],
   "source": [
    "normal_stops = np.linspace(t[0], tf, 10)\n",
    "stops, raw = p.to_list_of_time(normal_stops=normal_stops, update_stops=[])"
   ]
  },
  {
   "cell_type": "markdown",
   "metadata": {},
   "source": [
    "### Extract the information from the position objects."
   ]
  },
  {
   "cell_type": "code",
   "execution_count": 13,
   "metadata": {
    "tags": []
   },
   "outputs": [],
   "source": [
    "lons = np.array([pt.lon for pt in raw]).T\n",
    "lats = np.array([pt.lat for pt in raw]).T"
   ]
  },
  {
   "cell_type": "markdown",
   "metadata": {},
   "source": [
    "### Some particles passed through the dateline (periodic boundary). Here is some pre-processing to handle the plot."
   ]
  },
  {
   "cell_type": "code",
   "execution_count": 14,
   "metadata": {
    "tags": []
   },
   "outputs": [],
   "source": [
    "for i in range(len(lons)):\n",
    "    diff = np.diff(lons[i])\n",
    "\n",
    "    if max(abs(diff)) > 330:\n",
    "        for j in np.where(abs(diff) > 300)[0]:\n",
    "            j = int(j)\n",
    "            lons[i, j + 1 :] -= np.sign(diff[j]) * 360"
   ]
  },
  {
   "cell_type": "markdown",
   "metadata": {},
   "source": [
    "## Here are the trajectories:"
   ]
  },
  {
   "cell_type": "code",
   "execution_count": 15,
   "metadata": {
    "tags": []
   },
   "outputs": [
    {
     "data": {
      "text/plain": [
       "<cartopy.mpl.feature_artist.FeatureArtist at 0x7f767311bb80>"
      ]
     },
     "execution_count": 15,
     "metadata": {},
     "output_type": "execute_result"
    },
    {
     "name": "stderr",
     "output_type": "stream",
     "text": [
      "/home/idies/miniconda3/envs/Oceanography/lib/python3.9/site-packages/cartopy/crs.py:228: ShapelyDeprecationWarning: __len__ for multi-part geometries is deprecated and will be removed in Shapely 2.0. Check the length of the `geoms` property instead to get the  number of parts of a multi-part geometry.\n",
      "  if len(multi_line_string) > 1:\n",
      "/home/idies/miniconda3/envs/Oceanography/lib/python3.9/site-packages/cartopy/crs.py:239: ShapelyDeprecationWarning: __len__ for multi-part geometries is deprecated and will be removed in Shapely 2.0. Check the length of the `geoms` property instead to get the  number of parts of a multi-part geometry.\n",
      "  line_strings = list(multi_line_string)\n",
      "/home/idies/miniconda3/envs/Oceanography/lib/python3.9/site-packages/cartopy/crs.py:239: ShapelyDeprecationWarning: Iteration over multi-part geometries is deprecated and will be removed in Shapely 2.0. Use the `geoms` property to access the constituent parts of a multi-part geometry.\n",
      "  line_strings = list(multi_line_string)\n",
      "/home/idies/miniconda3/envs/Oceanography/lib/python3.9/site-packages/cartopy/crs.py:280: ShapelyDeprecationWarning: Iteration over multi-part geometries is deprecated and will be removed in Shapely 2.0. Use the `geoms` property to access the constituent parts of a multi-part geometry.\n",
      "  for line in multi_line_string:\n",
      "/home/idies/miniconda3/envs/Oceanography/lib/python3.9/site-packages/cartopy/crs.py:347: ShapelyDeprecationWarning: __len__ for multi-part geometries is deprecated and will be removed in Shapely 2.0. Check the length of the `geoms` property instead to get the  number of parts of a multi-part geometry.\n",
      "  if len(p_mline) > 0:\n",
      "/home/idies/miniconda3/envs/Oceanography/lib/python3.9/site-packages/cartopy/crs.py:385: ShapelyDeprecationWarning: Iteration over multi-part geometries is deprecated and will be removed in Shapely 2.0. Use the `geoms` property to access the constituent parts of a multi-part geometry.\n",
      "  line_strings.extend(multi_line_string)\n",
      "/home/idies/miniconda3/envs/Oceanography/lib/python3.9/site-packages/cartopy/crs.py:385: ShapelyDeprecationWarning: __len__ for multi-part geometries is deprecated and will be removed in Shapely 2.0. Check the length of the `geoms` property instead to get the  number of parts of a multi-part geometry.\n",
      "  line_strings.extend(multi_line_string)\n"
     ]
    },
    {
     "data": {
      "image/png": "[encoded data removed]",
      "text/plain": [
       "<Figure size 1728x432 with 1 Axes>"
      ]
     },
     "metadata": {
      "needs_background": "light"
     },
     "output_type": "display_data"
    }
   ],
   "source": [
    "plt.figure(figsize=(24, 6))\n",
    "ax = plt.axes(projection=ccrs.PlateCarree(central_longitude=170.0))\n",
    "ax.plot(lons.T, lats.T, \"darkblue\", lw=0.3, transform=ccrs.PlateCarree())\n",
    "ax.coastlines()"
   ]
  },
  {
   "cell_type": "code",
   "execution_count": null,
   "metadata": {},
   "outputs": [],
   "source": []
  }
 ],
 "metadata": {
  "kernelspec": {
   "display_name": "Oceanography",
   "language": "python",
   "name": "oceanography"
  },
  "language_info": {
   "codemirror_mode": {
    "name": "ipython",
    "version": 3
   },
   "file_extension": ".py",
   "mimetype": "text/x-python",
   "name": "python",
   "nbconvert_exporter": "python",
   "pygments_lexer": "ipython3",
   "version": "3.9.10"
  }
 },
 "nbformat": 4,
 "nbformat_minor": 5
}
