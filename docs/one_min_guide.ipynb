{
 "cells": [
  {
   "cell_type": "markdown",
   "id": "9dce0f3f",
   "metadata": {},
   "source": [
    "# One minute guide\n",
    "\n",
    "> A minimum example to do something useful with the package"
   ]
  },
  {
   "cell_type": "markdown",
   "id": "21e5f462",
   "metadata": {},
   "source": [
    "Well, first, import the package"
   ]
  },
  {
   "cell_type": "code",
   "execution_count": null,
   "id": "46ce80c0",
   "metadata": {},
   "outputs": [],
   "source": [
    "import seaduck as sd"
   ]
  },
  {
   "cell_type": "markdown",
   "id": "4e9b830a",
   "metadata": {},
   "source": [
    "Prepare a `xarray.Dataset`. For example, you could use a build in function to download a function"
   ]
  },
  {
   "cell_type": "code",
   "execution_count": null,
   "id": "26f4e416",
   "metadata": {},
   "outputs": [],
   "source": [
    "ds = sd.utils.get_dataset(\"ecco\")"
   ]
  },
  {
   "cell_type": "markdown",
   "id": "63f61975",
   "metadata": {},
   "source": [
    "Figure out where and when you want to do the interpolation"
   ]
  },
  {
   "cell_type": "code",
   "execution_count": null,
   "id": "742cc71a",
   "metadata": {},
   "outputs": [],
   "source": [
    "longitude = -11.0\n",
    "latitude = 71.0\n",
    "depth = -5.0\n",
    "time = sd.utils.convert_time(\"1992-02\")"
   ]
  },
  {
   "cell_type": "markdown",
   "id": "1ae9f037",
   "metadata": {},
   "source": [
    "That's all you need to retrieve the data."
   ]
  },
  {
   "cell_type": "code",
   "execution_count": null,
   "id": "6dfe62d2",
   "metadata": {},
   "outputs": [],
   "source": [
    "s = sd.OceInterp(ds, \"SALT\", longitude, latitude, depth, time)"
   ]
  },
  {
   "cell_type": "markdown",
   "id": "0e87edde",
   "metadata": {},
   "source": [
    "The package can do much more than this, and it is not much harder than this. To learn more, take a look at other tutorials, for example [here](notebook/AVISO.ipynb)."
   ]
  }
 ],
 "metadata": {
  "kernelspec": {
   "display_name": "Python 3 (ipykernel)",
   "language": "python",
   "name": "python3"
  },
  "language_info": {
   "codemirror_mode": {
    "name": "ipython",
    "version": 3
   },
   "file_extension": ".py",
   "mimetype": "text/x-python",
   "name": "python",
   "nbconvert_exporter": "python",
   "pygments_lexer": "ipython3",
   "version": "3.9.7"
  }
 },
 "nbformat": 4,
 "nbformat_minor": 5
}
