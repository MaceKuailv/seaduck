{
 "cells": [
  {
   "attachments": {},
   "cell_type": "markdown",
   "metadata": {},
   "source": [
    "# Vertical stream function conservation\n",
    "\n",
    "author, Wenrui Jiang 06/06/2022\n",
    "\n",
    "This notebook is also an idealized test for 2D flow like [the horizontal case](./hor_stream). However, it has a slightly different flavor.\n",
    "\n",
    "- This notebook looks at the vertical direction rather than the horizontal one.\n",
    "- We are going to simulate the particles backward in time.\n",
    "- The \"wall\" behavior of the particles are explored."
   ]
  },
  {
   "cell_type": "code",
   "execution_count": null,
   "metadata": {
    "tags": [
     "hide-input"
    ]
   },
   "outputs": [],
   "source": [
    "import warnings\n",
    "\n",
    "import matplotlib as mpl\n",
    "import matplotlib.pyplot as plt\n",
    "import numpy as np\n",
    "import xarray as xr\n",
    "from matplotlib import cm, colors\n",
    "\n",
    "import seaduck as sd\n",
    "\n",
    "mpl.rcParams[\"figure.dpi\"] = 300\n",
    "\n",
    "warnings.filterwarnings(\"ignore\")"
   ]
  },
  {
   "attachments": {},
   "cell_type": "markdown",
   "metadata": {},
   "source": [
    "## Loading data\n",
    "\n",
    "As always, we need to load the data. For simplicity and to demonstrate the capacity of particles sliding on the wall, I am going to use the stream function of an $f$-plane gyre. You can think of this example as a zonal overturning cell in a meridional channel."
   ]
  },
  {
   "cell_type": "code",
   "execution_count": null,
   "metadata": {},
   "outputs": [],
   "source": [
    "def streamfunction(x, z):\n",
    "    tempz = -z / 500 - 1\n",
    "    return np.cos(np.pi * x / 2) * np.cos(np.pi * tempz / 2)"
   ]
  },
  {
   "cell_type": "code",
   "execution_count": null,
   "metadata": {
    "tags": [
     "hide-input"
    ]
   },
   "outputs": [],
   "source": [
    "N = 100\n",
    "M = 50\n",
    "x = np.linspace(-1, 1, N + 1)\n",
    "y = np.linspace(-0.1, 0.1, 2)\n",
    "zl = np.linspace(0, -1000, M)\n",
    "zp1 = np.append(zl, -1001)\n",
    "xg, yg = np.meshgrid(x, y)\n",
    "xv = 0.5 * (xg[:, 1:] + xg[:, :-1])\n",
    "yv = 0.5 * (yg[:, 1:] + yg[:, :-1])\n",
    "xu = 0.5 * (xg[1:] + xg[:-1])\n",
    "yu = 0.5 * (yg[1:] + yg[:-1])\n",
    "\n",
    "xc = 0.5 * (xv[1:] + xv[:-1])\n",
    "yc = 0.5 * (yv[1:] + yv[:-1])\n",
    "\n",
    "tempx, tempz = np.meshgrid(x, zl)\n",
    "strmf = streamfunction(tempx, tempz).reshape(len(zl), 1, -1)\n",
    "z = 0.5 * (zp1[1:] + zp1[:-1])\n",
    "zl = zp1[:-1]\n",
    "drf = np.abs(np.diff(zp1))"
   ]
  },
  {
   "cell_type": "code",
   "execution_count": null,
   "metadata": {},
   "outputs": [],
   "source": [
    "u = np.zeros((M, 1, N + 1), float)\n",
    "u[:-1] = np.diff(strmf, axis=0)\n",
    "w = np.diff(strmf, axis=-1)\n",
    "v = np.zeros((M, 2, N), float)"
   ]
  },
  {
   "cell_type": "code",
   "execution_count": null,
   "metadata": {
    "tags": [
     "hide-input"
    ]
   },
   "outputs": [],
   "source": [
    "stream = np.zeros((M, 2, N + 1))\n",
    "stream[:] = strmf"
   ]
  },
  {
   "cell_type": "code",
   "execution_count": null,
   "metadata": {
    "tags": [
     "hide-input"
    ]
   },
   "outputs": [],
   "source": [
    "ds = xr.Dataset(\n",
    "    coords=dict(\n",
    "        XC=([\"Y\", \"X\"], xc),\n",
    "        YC=([\"Y\", \"X\"], yc),\n",
    "        XG=([\"Yp1\", \"Xp1\"], xg),\n",
    "        YG=([\"Yp1\", \"Xp1\"], yg),\n",
    "        Zl=([\"Zl\"], zl),\n",
    "        Z=([\"Z\"], z),\n",
    "        drF=([\"Z\"], drf),\n",
    "        rA=([\"Y\", \"X\"], np.ones_like(xc, float)),\n",
    "    ),\n",
    "    data_vars=dict(\n",
    "        UVELMASS=([\"Z\", \"Y\", \"Xp1\"], u),\n",
    "        VVELMASS=([\"Z\", \"Yp1\", \"X\"], v),\n",
    "        WVELMASS=([\"Zl\", \"Y\", \"X\"], w),\n",
    "        streamfunc=([\"Zl\", \"Yp1\", \"Xp1\"], stream),\n",
    "    ),\n",
    ")\n",
    "ds"
   ]
  },
  {
   "attachments": {},
   "cell_type": "markdown",
   "metadata": {},
   "source": [
    "## Prepare the test\n",
    "\n",
    "First, we convert the `xarray.Dataset` to `seaduck.OceData`"
   ]
  },
  {
   "cell_type": "code",
   "execution_count": null,
   "metadata": {},
   "outputs": [],
   "source": [
    "tub = sd.OceData(ds)"
   ]
  },
  {
   "attachments": {},
   "cell_type": "markdown",
   "metadata": {},
   "source": [
    "Now we define the initial condition of particles such that some particles are right **on the wall/at the corner**."
   ]
  },
  {
   "cell_type": "code",
   "execution_count": null,
   "metadata": {},
   "outputs": [],
   "source": [
    "n = 30\n",
    "m = 30\n",
    "x = np.linspace(-1, 1, n + 1)\n",
    "z = np.linspace(-0.1, -1000, m + 1)\n",
    "x, z = np.meshgrid(x, z)\n",
    "x = x.ravel()\n",
    "z = z.ravel()"
   ]
  },
  {
   "attachments": {},
   "cell_type": "markdown",
   "metadata": {},
   "source": [
    "Let's store which ones are on the wall and which ones are at the corner for plotting purposes."
   ]
  },
  {
   "cell_type": "code",
   "execution_count": null,
   "metadata": {},
   "outputs": [],
   "source": [
    "on_x_wall = np.abs(x) == 1\n",
    "on_z_wall = np.logical_or(z == z.min(), z == z.max())\n",
    "coloring = (0.2 + np.logical_or(on_x_wall, on_z_wall)) / 1.2\n",
    "corner = np.logical_and(on_x_wall, on_z_wall)"
   ]
  },
  {
   "attachments": {},
   "cell_type": "markdown",
   "metadata": {},
   "source": [
    "## Run the test and plot\n",
    "\n",
    "Finally, we can run the simulation, and plot the trajectories."
   ]
  },
  {
   "cell_type": "code",
   "execution_count": null,
   "metadata": {},
   "outputs": [],
   "source": [
    "pt = sd.Particle(\n",
    "    x=x, y=np.zeros_like(x), z=z, t=np.zeros_like(x), data=tub, transport=True\n",
    ")"
   ]
  },
  {
   "attachments": {},
   "cell_type": "markdown",
   "metadata": {},
   "source": [
    "Again, we will look at how much the stream function changed before and after the simulation."
   ]
  },
  {
   "cell_type": "code",
   "execution_count": null,
   "metadata": {},
   "outputs": [],
   "source": [
    "kkk = np.array([[0, 0], [0, 1], [1, 0], [1, 1]])\n",
    "\n",
    "gknw = sd.KnW(kkk, vkernel=\"linear\", tkernel=\"nearest\")"
   ]
  },
  {
   "cell_type": "code",
   "execution_count": null,
   "metadata": {},
   "outputs": [],
   "source": [
    "before = pt.interpolate(\"streamfunc\", gknw)"
   ]
  },
  {
   "cell_type": "code",
   "execution_count": null,
   "metadata": {},
   "outputs": [],
   "source": [
    "steps = 40\n",
    "stops, ps = pt.to_list_of_time(\n",
    "    normal_stops=np.linspace(0, -2 * steps * N, steps), update_stops=[]\n",
    ")"
   ]
  },
  {
   "cell_type": "code",
   "execution_count": null,
   "metadata": {},
   "outputs": [],
   "source": [
    "after = pt.interpolate(\"streamfunc\", gknw)"
   ]
  },
  {
   "attachments": {},
   "cell_type": "markdown",
   "metadata": {},
   "source": [
    "As promised, the difference is indeed very small."
   ]
  },
  {
   "cell_type": "code",
   "execution_count": null,
   "metadata": {
    "tags": [
     "hide-input"
    ]
   },
   "outputs": [],
   "source": [
    "is_it_close = np.allclose(after, before, atol=1e-7)\n",
    "max_difference = np.max(np.abs(after - before))\n",
    "print(f\"Is the stream function is conserved? {is_it_close}\")\n",
    "print(f\"The maximum difference is {max_difference }\")"
   ]
  },
  {
   "cell_type": "code",
   "execution_count": null,
   "metadata": {
    "tags": [
     "hide-input"
    ]
   },
   "outputs": [],
   "source": [
    "lons = []\n",
    "deps = []\n",
    "for ppp in ps:\n",
    "    lons.append(ppp.lon)\n",
    "    deps.append(ppp.dep)\n",
    "lons = np.array(lons)\n",
    "deps = np.array(deps)"
   ]
  },
  {
   "cell_type": "code",
   "execution_count": null,
   "metadata": {
    "tags": [
     "hide-input"
    ]
   },
   "outputs": [],
   "source": [
    "norm = colors.Normalize(vmin=0.0, vmax=1.0, clip=True)\n",
    "mapper = cm.ScalarMappable(norm=norm, cmap=cm.binary)"
   ]
  },
  {
   "cell_type": "code",
   "execution_count": null,
   "metadata": {},
   "outputs": [],
   "source": [
    "for i in range(len(x)):\n",
    "    if corner[i]:\n",
    "        plt.plot(lons.T[i], deps.T[i], \"x-\", c=\"r\")\n",
    "    plt.plot(lons.T[i], deps.T[i], c=mapper.to_rgba(coloring[i]))\n",
    "plt.ylabel(\"Depth\")\n",
    "plt.xlabel(\"X\")\n",
    "plt.title(\"Particle trajectories in a zonal overturning cell\")\n",
    "plt.show()"
   ]
  },
  {
   "attachments": {},
   "cell_type": "markdown",
   "metadata": {},
   "source": [
    "**Fig.1** Particle trajectories in zonal overturning cell. Grey and black lines represent the trajectories of interior and wall attached particles, respectively. The red crosses show the trajectories of corner points."
   ]
  },
  {
   "attachments": {},
   "cell_type": "markdown",
   "metadata": {},
   "source": [
    "## Remarks\n",
    "\n",
    "Hopefully, this has already convinced you that the paticles are conserving streamfunction in the vertical.\n",
    "\n",
    "The non-penetrating condition means that particles on the wall will not detach in any finite time. Likewise, particles at the corners will never leave.\n",
    "\n",
    "At the center, the point with maximum stream function has nowhere to go, so it stays there forever."
   ]
  }
 ],
 "metadata": {
  "celltoolbar": "Tags",
  "kernelspec": {
   "display_name": "Python 3 (ipykernel)",
   "language": "python",
   "name": "python3"
  },
  "language_info": {
   "codemirror_mode": {
    "name": "ipython",
    "version": 3
   },
   "file_extension": ".py",
   "mimetype": "text/x-python",
   "name": "python",
   "nbconvert_exporter": "python",
   "pygments_lexer": "ipython3",
   "version": "3.11.4"
  }
 },
 "nbformat": 4,
 "nbformat_minor": 4
}
