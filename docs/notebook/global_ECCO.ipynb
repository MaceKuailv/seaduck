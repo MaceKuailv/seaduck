{
 "cells": [
  {
   "cell_type": "markdown",
   "metadata": {},
   "source": [
    "# Use `seaduck.OceInterp` with ECCO\n",
    "\n",
    "`seaduck` Lagrangian particle demonstration. This version uses a reduced version of the ECCO MITgcm velocity field data.\n",
    "\n",
    "authors: Wenrui Jiang, Tom Haine Feb '23"
   ]
  },
  {
   "cell_type": "code",
   "execution_count": null,
   "metadata": {
    "tags": [
     "hide-input"
    ]
   },
   "outputs": [],
   "source": [
    "import cartopy.crs as ccrs\n",
    "import matplotlib as mpl\n",
    "import matplotlib.pyplot as plt\n",
    "import numpy as np\n",
    "\n",
    "import seaduck as sd\n",
    "\n",
    "mpl.rcParams[\"figure.dpi\"] = 300"
   ]
  },
  {
   "cell_type": "markdown",
   "metadata": {},
   "source": [
    "## Loading Dataset\n",
    "\n",
    "The ECCO MITgcm run is a low-resolution global state estimate. An artifact of note is that this dataset has complex grid topology, which means there is a `face` (also called tile) dimension in the dataset.\n",
    "\n",
    "A built-in function in `seaduck.utils` can help access the snippet of ECCO that this example is based on. The grid of this dataset is the same as the original dataset, while all other variables are synthetic."
   ]
  },
  {
   "cell_type": "code",
   "execution_count": null,
   "metadata": {},
   "outputs": [],
   "source": [
    "ecco = sd.utils.get_dataset(\"ecco\")\n",
    "ecco"
   ]
  },
  {
   "cell_type": "markdown",
   "metadata": {},
   "source": [
    "```{admonition} Access full ECCO dataset\n",
    "The ECCO dataset is publicly available on [SciServer](https://sciserver.org/). The simulation output can be opened using the [OceanSpy](https://github.com/hainegroup/oceanspy) package with the [`from_catalog`](https://oceanspy.readthedocs.io/en/latest/generated/oceanspy.open_oceandataset.from_catalog.html#oceanspy.open_oceandataset.from_catalog) method (Oceanspy is already available in the Oceanography container environment on SciServer).\n",
    "\n",
    "Choose between the monthly-mean data ('ECCO')\n",
    "\n",
    "`ecco = ospy.open_oceandataset.from_catalog(\"ECCO\")._ds`\n",
    "\n",
    "or the daily-mean data ('daily_ecco').\n",
    "\n",
    "`ecco = ospy.open_oceandataset.from_catalog('daily_ecco')._ds`\n",
    "\n",
    "Click [here](https://dev-poseidon-ocean.pantheonsite.io/products/datasets/) for a full list of the datasets hosted on SciServer.\n",
    "```"
   ]
  },
  {
   "cell_type": "markdown",
   "metadata": {},
   "source": [
    "## Experiment setup\n",
    "\n",
    "Specify the parameters for the particles (number, positions, start time)."
   ]
  },
  {
   "cell_type": "code",
   "execution_count": null,
   "metadata": {},
   "outputs": [],
   "source": [
    "# Define the extent of the box\n",
    "west = -90.0\n",
    "east = 0.0\n",
    "south = 23.0\n",
    "north = 67.0\n",
    "shallow = -10.0\n",
    "deep = -10.0\n",
    "\n",
    "time = \"1992-02-15\"\n",
    "\n",
    "Nlon = 80  # How many along longitudinal direction?\n",
    "Nlat = 80  # How many along latitudinal direction?\n",
    "Ndep = 1  # How many along vertical direction?\n",
    "\n",
    "x, y, z, t = sd.utils.easy_3d_cube(\n",
    "    (east, west, Nlon),\n",
    "    (south, north, Nlat),\n",
    "    (shallow, deep, Ndep),\n",
    "    time,\n",
    "    print_total_number=True,\n",
    ")"
   ]
  },
  {
   "cell_type": "markdown",
   "metadata": {},
   "source": [
    "Plot the particle positions"
   ]
  },
  {
   "cell_type": "code",
   "execution_count": null,
   "metadata": {
    "tags": [
     "hide-input"
    ]
   },
   "outputs": [],
   "source": [
    "ax = plt.axes(projection=ccrs.PlateCarree())\n",
    "ax.plot(x, y, \"ro\", markersize=0.5)\n",
    "ax.coastlines()\n",
    "ax.set_title(\"Interpolation position\")\n",
    "plt.show()"
   ]
  },
  {
   "cell_type": "markdown",
   "metadata": {},
   "source": [
    "## Let's explore `seaduck.OceInterp`\n",
    "\n",
    "This is the most high-level function of the package. Yes, it's very easy to use."
   ]
  },
  {
   "cell_type": "code",
   "execution_count": null,
   "metadata": {
    "tags": [
     "hide-output"
    ]
   },
   "outputs": [],
   "source": [
    "help(sd.OceInterp)"
   ]
  },
  {
   "cell_type": "markdown",
   "metadata": {},
   "source": [
    "### Interpolate these ECCO fields at Eulerian positions."
   ]
  },
  {
   "cell_type": "code",
   "execution_count": null,
   "metadata": {
    "tags": []
   },
   "outputs": [],
   "source": [
    "[s, (u, v), eta, mask] = sd.OceInterp(\n",
    "    ecco, [\"SALT\", (\"UVELMASS\", \"VVELMASS\"), \"ETAN\", \"maskC\"], x, y, z, t\n",
    ")"
   ]
  },
  {
   "cell_type": "markdown",
   "metadata": {
    "tags": [
     "mdformat-skip"
    ]
   },
   "source": [
    "Plot the interpolated salinity, $u$, $\\eta$ field."
   ]
  },
  {
   "cell_type": "markdown",
   "metadata": {},
   "source": [
    "```{warning}\n",
    "In case you haven't notice, SALT, ETAN are purely synthetic. \n",
    "```"
   ]
  },
  {
   "cell_type": "code",
   "execution_count": null,
   "metadata": {
    "tags": [
     "hide-input"
    ]
   },
   "outputs": [],
   "source": [
    "unit = [\"psu\", \"m/s\", \"m\"]\n",
    "name = [\"Salinity\", \"Zonal Velocity\", \"Sea Surface Height\"]\n",
    "for i, var in enumerate([s, u, eta]):\n",
    "    ax = plt.subplot(1, 3, 1 + i, projection=ccrs.PlateCarree())\n",
    "    c = ax.scatter(x, y, c=var, s=0.5)\n",
    "    ax.coastlines()\n",
    "    ax.set_xlim([west, east])\n",
    "    ax.set_ylim([south, north])\n",
    "    plt.colorbar(c, location=\"bottom\", label=unit[i], pad=0.03)\n",
    "    ax.set_title(name[i])\n",
    "plt.tight_layout()\n",
    "plt.show()"
   ]
  },
  {
   "cell_type": "markdown",
   "metadata": {},
   "source": [
    "The salinity and the sea surface height variable here are not model output but randomly generated noise and there are values on land as well. However, the package respects the mask provided by the model, so even though there are apparently values on land, NaNs are returned.\n",
    "\n",
    "This is not the case for velocity. The mask for the staggered velocity field is not provided by the model, so the actual value (zero here) is returned."
   ]
  },
  {
   "cell_type": "markdown",
   "metadata": {},
   "source": [
    "### Now compute Lagrangian trajectories for these particles.\n",
    "\n",
    "First, define the `start_time` and `end_time`. Here the particles are integrated backwards in time."
   ]
  },
  {
   "cell_type": "code",
   "execution_count": null,
   "metadata": {},
   "outputs": [],
   "source": [
    "start_time = \"1992-01-17\"\n",
    "end_time = \"1992-03-12\"\n",
    "\n",
    "t_bnds = np.array(\n",
    "    [\n",
    "        sd.utils.convert_time(start_time),\n",
    "        sd.utils.convert_time(end_time),\n",
    "    ]\n",
    ")"
   ]
  },
  {
   "cell_type": "markdown",
   "metadata": {},
   "source": [
    "### Perform the particle trajectory simulation.\n",
    "\n",
    "To switch between Lagrangian and Eulerian modes, you only need to change the `lagrangian` keyword argument.\n",
    "\n",
    "The following code block simulates the trajectory and records the salinity along the particle trajectories, as well as their (lat,lon) positions."
   ]
  },
  {
   "cell_type": "code",
   "execution_count": null,
   "metadata": {},
   "outputs": [],
   "source": [
    "stops, [s, raw, lat, lon] = sd.OceInterp(\n",
    "    ecco,\n",
    "    [\"SALT\", \"__particle.raw\", \"__particle.lat\", \"__particle.lon\"],\n",
    "    x,\n",
    "    y,\n",
    "    z,\n",
    "    t_bnds,\n",
    "    lagrangian=True,\n",
    "    return_pt_time=True,\n",
    ")"
   ]
  },
  {
   "cell_type": "markdown",
   "metadata": {},
   "source": [
    "There are 3 output times. See also the diagnostic output from running the integration."
   ]
  },
  {
   "cell_type": "code",
   "execution_count": null,
   "metadata": {},
   "outputs": [],
   "source": [
    "len(stops)"
   ]
  },
  {
   "cell_type": "markdown",
   "metadata": {},
   "source": [
    "The `raw` output is a list of `seaduck.Position` objects which stores, of course, the position of the particle at specific times."
   ]
  },
  {
   "cell_type": "code",
   "execution_count": null,
   "metadata": {},
   "outputs": [],
   "source": [
    "raw"
   ]
  },
  {
   "cell_type": "markdown",
   "metadata": {},
   "source": [
    "### Plot the interpolated salinity field on the final particle positions."
   ]
  },
  {
   "cell_type": "code",
   "execution_count": null,
   "metadata": {
    "tags": [
     "hide-input"
    ]
   },
   "outputs": [],
   "source": [
    "ax = plt.axes(projection=ccrs.PlateCarree())\n",
    "ax.scatter(lon[-1], lat[-1], c=s[-1], s=6)\n",
    "ax.coastlines()\n",
    "ax.set_xlim([-70, 0])\n",
    "ax.set_ylim([30, 70])\n",
    "plt.title(\"salinity map\")\n",
    "plt.show()"
   ]
  },
  {
   "cell_type": "markdown",
   "metadata": {},
   "source": [
    "## Calculate derivatives\n",
    "\n",
    "### Kernel object\n",
    "\n",
    "The `kernel` object defines which neighboring points are used for the interpolation, and also what kind of operation is conducted. The default is interpolation. However, you can also use this class to calculate derivatives."
   ]
  },
  {
   "cell_type": "code",
   "execution_count": null,
   "metadata": {
    "tags": [
     "hide-output"
    ]
   },
   "outputs": [],
   "source": [
    "KnW = sd.kernel_weight.KnW\n",
    "help(KnW)"
   ]
  },
  {
   "cell_type": "markdown",
   "metadata": {
    "tags": [
     "mdformat-skip"
    ]
   },
   "source": [
    "Let's define derivative kernels for $\\partial / \\partial z$, $\\partial^2 / \\partial x^2$, $\\partial^2 / \\partial y^2$, and $\\partial / \\partial t$ as examples:"
   ]
  },
  {
   "cell_type": "code",
   "execution_count": null,
   "metadata": {},
   "outputs": [],
   "source": [
    "dz_kernel = KnW(vkernel=\"dz\")\n",
    "dx2_kernel = KnW(hkernel=\"dx\", h_order=2, inheritance=None)\n",
    "dy2_kernel = KnW(hkernel=\"dy\", h_order=2, inheritance=None)\n",
    "dt_kernel = KnW(tkernel=\"dt\")"
   ]
  },
  {
   "cell_type": "markdown",
   "metadata": {},
   "source": [
    "Apply the kernels to the ECCO fields:"
   ]
  },
  {
   "cell_type": "code",
   "execution_count": null,
   "metadata": {},
   "outputs": [],
   "source": [
    "d2edx2, d2edy2 = sd.OceInterp(\n",
    "    ecco, [\"ETAN\", \"ETAN\"], x, y, z, t, kernel_list=[dx2_kernel, dy2_kernel]\n",
    ")"
   ]
  },
  {
   "cell_type": "markdown",
   "metadata": {},
   "source": [
    "### Plot one of the differentiated fields on the initial particle positions."
   ]
  },
  {
   "cell_type": "code",
   "execution_count": null,
   "metadata": {},
   "outputs": [],
   "source": [
    "laplacian = d2edx2 + d2edy2"
   ]
  },
  {
   "cell_type": "code",
   "execution_count": null,
   "metadata": {
    "tags": [
     "hide-input"
    ]
   },
   "outputs": [],
   "source": [
    "ax = plt.axes(projection=ccrs.PlateCarree())\n",
    "c = ax.scatter(x, y, c=laplacian, s=5)\n",
    "ax.coastlines()\n",
    "plt.colorbar(c, location=\"bottom\", label=\"m/s per grid scale squared\")\n",
    "plt.title(\"Laplacian of sea surface height\")\n",
    "plt.show()"
   ]
  }
 ],
 "metadata": {
  "celltoolbar": "Tags",
  "kernelspec": {
   "display_name": "Python 3 (ipykernel)",
   "language": "python",
   "name": "python3"
  },
  "language_info": {
   "codemirror_mode": {
    "name": "ipython",
    "version": 3
   },
   "file_extension": ".py",
   "mimetype": "text/x-python",
   "name": "python",
   "nbconvert_exporter": "python",
   "pygments_lexer": "ipython3",
   "version": "3.9.7"
  }
 },
 "nbformat": 4,
 "nbformat_minor": 4
}
