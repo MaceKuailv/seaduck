{
 "cells": [
  {
   "attachments": {},
   "cell_type": "markdown",
   "id": "b78eb41a",
   "metadata": {},
   "source": [
    "# Topology tutorial\n",
    "\n",
    "In the movie \"Kill Bill\", all the brutal action happens after the main character wakes up from a coma and manages to \"wiggle your big toe\". In a similar way, all the functionality of `seaduck` depends on the `Topology` class.\n",
    "\n",
    "As the name \"topology\" suggests, this object describes how the grids are connected in the horizontal dimensions. This is a simple compact model with high performance. It is also designed with expandability in mind.\n",
    "\n",
    "For any grid configuration not yet supported by this package, only one function must be added to the code, and, with no (or at least, very little) extra effort, this module (and therefore the entire package) should work for the new configuration.\n",
    "\n",
    "The magic function is simply: Given a center grid point and its index, if you one want to step one grid point to the up/down/left/right what would the new index be?\n",
    "\n",
    "And that's it."
   ]
  },
  {
   "cell_type": "code",
   "execution_count": null,
   "id": "c1875350",
   "metadata": {
    "tags": [
     "hide-input"
    ]
   },
   "outputs": [],
   "source": [
    "import cartopy.crs as ccrs\n",
    "import matplotlib.pyplot as plt\n",
    "import numpy as np\n",
    "\n",
    "import seaduck as sd"
   ]
  },
  {
   "attachments": {},
   "cell_type": "markdown",
   "id": "8eda7a1c",
   "metadata": {},
   "source": [
    "For this example, we are going to use ECCO dataset (see [this ECCO notebook](./global_ECCO)). Crucially, this dataset has 13 faces."
   ]
  },
  {
   "cell_type": "code",
   "execution_count": null,
   "id": "9535fb7a",
   "metadata": {},
   "outputs": [],
   "source": [
    "ds = sd.utils.get_dataset(\"ecco\")[[\"UVELMASS\", \"VVELMASS\"]].isel(time=0, Z=0)\n",
    "ds"
   ]
  },
  {
   "attachments": {},
   "cell_type": "markdown",
   "id": "ee9594a7",
   "metadata": {},
   "source": [
    "We can either directly create the `Topology` object"
   ]
  },
  {
   "cell_type": "code",
   "execution_count": null,
   "id": "fa099191",
   "metadata": {},
   "outputs": [],
   "source": [
    "tp = sd.Topology(ds)"
   ]
  },
  {
   "attachments": {},
   "cell_type": "markdown",
   "id": "99f55428",
   "metadata": {},
   "source": [
    "Or we can access it as a attribute of `OceData` object"
   ]
  },
  {
   "cell_type": "code",
   "execution_count": null,
   "id": "183a7f45",
   "metadata": {},
   "outputs": [],
   "source": [
    "tub = sd.OceData(ds)\n",
    "tp = tub.tp"
   ]
  },
  {
   "attachments": {},
   "cell_type": "markdown",
   "id": "38cd0600",
   "metadata": {},
   "source": [
    "Let's start with the most fundamental method of the object. Simply find the neighboring grid points:"
   ]
  },
  {
   "cell_type": "code",
   "execution_count": null,
   "id": "a626f49f",
   "metadata": {},
   "outputs": [],
   "source": [
    "help(tp.ind_tend)"
   ]
  },
  {
   "attachments": {},
   "cell_type": "markdown",
   "id": "e041986c",
   "metadata": {},
   "source": [
    "Here, 0-3 represent up/down/left/right respectively."
   ]
  },
  {
   "cell_type": "code",
   "execution_count": null,
   "id": "60b744bc",
   "metadata": {},
   "outputs": [],
   "source": [
    "face = 10\n",
    "iy = 89\n",
    "ix = 89\n",
    "ind = (face, iy, ix)"
   ]
  },
  {
   "cell_type": "code",
   "execution_count": null,
   "id": "50db4c7a",
   "metadata": {},
   "outputs": [],
   "source": [
    "tp.ind_tend(ind, 0), tp.ind_tend(ind, 1), tp.ind_tend(ind, 2), tp.ind_tend(ind, 3)"
   ]
  },
  {
   "attachments": {},
   "cell_type": "markdown",
   "id": "2e272eae",
   "metadata": {},
   "source": [
    "You could also use the function on staggered grids, and sometimes you get a different result."
   ]
  },
  {
   "cell_type": "code",
   "execution_count": null,
   "id": "9abda00f",
   "metadata": {},
   "outputs": [],
   "source": [
    "tp.ind_tend(ind, 0, cuvwg=\"U\"), tp.ind_tend(ind, 0)"
   ]
  },
  {
   "attachments": {},
   "cell_type": "markdown",
   "id": "2dd37a71",
   "metadata": {},
   "source": [
    "This is all very nice, because it's definitely a pain to navigate grids. But how can I actually apply this?"
   ]
  },
  {
   "attachments": {},
   "cell_type": "markdown",
   "id": "15a58f6e",
   "metadata": {},
   "source": [
    "## Calculate surface vorticity\n",
    "\n",
    "This example is going to use `Topology` to compute vorticity on ECCO. As this notebook is written, packages like `xgcm` do not support vorticity calculation on grids with complex topology. I don't think I need to tell you it's a pain to write it out yourself.\n",
    "\n",
    "Let's begin by defining the points of interest. In this example, it's every single corner point in the dataset:"
   ]
  },
  {
   "cell_type": "code",
   "execution_count": null,
   "id": "706c3e4a",
   "metadata": {},
   "outputs": [],
   "source": [
    "face, iy, ix = np.indices((13, 90, 90))\n",
    "face = face.ravel()\n",
    "iy = iy.ravel()\n",
    "ix = ix.ravel()\n",
    "\n",
    "ind = (face, iy, ix)"
   ]
  },
  {
   "attachments": {},
   "cell_type": "markdown",
   "id": "d07b1581",
   "metadata": {},
   "source": [
    "We can also directly read the grid coords here."
   ]
  },
  {
   "cell_type": "code",
   "execution_count": null,
   "id": "9476e93c",
   "metadata": {},
   "outputs": [],
   "source": [
    "lon = tub.XG[ind]\n",
    "lat = tub.YG[ind]\n",
    "\n",
    "dx = tub.dX[ind]\n",
    "dy = tub.dY[ind]\n",
    "# Ideally, dxV and dyU should be used for accuracy."
   ]
  },
  {
   "attachments": {},
   "cell_type": "markdown",
   "id": "c0e9bae1",
   "metadata": {},
   "source": [
    "If you are not familiar with LLC grids, here is what it looks like. Different colors represent different \"faces\", which aren't necessarily parallel to each other."
   ]
  },
  {
   "cell_type": "code",
   "execution_count": null,
   "id": "7f212cb3",
   "metadata": {
    "tags": [
     "hide-input"
    ]
   },
   "outputs": [],
   "source": [
    "ax = plt.axes(\n",
    "    projection=ccrs.Orthographic(\n",
    "        central_longitude=0.0,\n",
    "        central_latitude=45.0,\n",
    "    )\n",
    ")\n",
    "ax.scatter(lon, lat, s=0.1, c=face, transform=ccrs.PlateCarree(), cmap=\"Set3\")\n",
    "plt.show()"
   ]
  },
  {
   "attachments": {},
   "cell_type": "markdown",
   "id": "3dc799b8",
   "metadata": {},
   "source": [
    "Every corner point is connected to 4 staggered velocity points. For MITgcm indexing, the upper and right one has the same index as the corner, so we could just read in that."
   ]
  },
  {
   "cell_type": "code",
   "execution_count": null,
   "id": "fd30dffc",
   "metadata": {
    "tags": [
     "hide-input"
    ]
   },
   "outputs": [],
   "source": [
    "u = np.array(ds.UVELMASS)\n",
    "v = np.array(ds.VVELMASS)"
   ]
  },
  {
   "cell_type": "code",
   "execution_count": null,
   "id": "204c90e4",
   "metadata": {},
   "outputs": [],
   "source": [
    "U_up = u[ind]\n",
    "V_right = v[ind]"
   ]
  },
  {
   "attachments": {},
   "cell_type": "markdown",
   "id": "a5c3f75b",
   "metadata": {},
   "source": [
    "We can use the `ind_tend_vec` function to figure out the other two indexes for the velocity points.\n",
    "\n",
    "The next line is going to have a warning, because some of the points we defined on continental Antarctica don't have neighboring points. Since, they are on land, it does not matter as far as we are concerned."
   ]
  },
  {
   "cell_type": "code",
   "execution_count": null,
   "id": "00d4bea7",
   "metadata": {},
   "outputs": [],
   "source": [
    "ind_left = tp.ind_tend_vec(ind, 2 * np.ones_like(face), cuvwg=\"V\")\n",
    "ind_down = tp.ind_tend_vec(ind, 1 * np.ones_like(face), cuvwg=\"U\")"
   ]
  },
  {
   "attachments": {},
   "cell_type": "markdown",
   "id": "b2218477",
   "metadata": {},
   "source": [
    "Let's just read the velocities at the other points."
   ]
  },
  {
   "cell_type": "code",
   "execution_count": null,
   "id": "688c3b22",
   "metadata": {},
   "outputs": [],
   "source": [
    "U_down = u[tuple(ind_down)]\n",
    "V_left = v[tuple(ind_left)]"
   ]
  },
  {
   "attachments": {},
   "cell_type": "markdown",
   "id": "1a21622e",
   "metadata": {},
   "source": [
    "It's actually not as simple as that. Grids are not always parallel to each other. For example, sometimes $U$ becomes $V$, and $V$ becomes $-U$.\n",
    "\n",
    "Well, the `Topology` object takes care of that as well with little additional effort."
   ]
  },
  {
   "cell_type": "code",
   "execution_count": null,
   "id": "a81d1cf0",
   "metadata": {},
   "outputs": [],
   "source": [
    "V_down = v[tuple(ind_down)]\n",
    "U_left = u[tuple(ind_left)]"
   ]
  },
  {
   "cell_type": "code",
   "execution_count": null,
   "id": "612b0a0f",
   "metadata": {},
   "outputs": [],
   "source": [
    "fc1 = ind[0]\n",
    "fc2 = ind_left[0].astype(int)\n",
    "fc3 = ind_down[0].astype(int)\n",
    "\n",
    "where = np.where(fc1 != fc3)[0]\n",
    "for i in where:\n",
    "    faces = np.array([fc1[i], fc3[i]])\n",
    "    UfromUvel, UfromVvel, _, _ = tp.get_uv_mask_from_face(faces)\n",
    "    U_down[i] = UfromVvel[1] * V_down[i] + UfromUvel[1] * U_down[i]\n",
    "\n",
    "where = np.where(fc1 != fc2)[0]\n",
    "for i in where:\n",
    "    faces = np.array([fc1[i], fc2[i]])\n",
    "    _, _, VfromUvel, VfromVvel = tp.get_uv_mask_from_face(faces)\n",
    "    V_left[i] = VfromVvel[1] * V_left[i] + VfromUvel[1] * U_left[i]"
   ]
  },
  {
   "attachments": {},
   "cell_type": "markdown",
   "id": "faecc16d",
   "metadata": {},
   "source": [
    "Ha, we got everything we need. Let's calculate the velocity and plot it."
   ]
  },
  {
   "cell_type": "code",
   "execution_count": null,
   "id": "57d06255",
   "metadata": {},
   "outputs": [],
   "source": [
    "vor = (V_right - V_left) / dx + (U_down - U_up) / dy"
   ]
  },
  {
   "cell_type": "code",
   "execution_count": null,
   "id": "7ee5999f",
   "metadata": {
    "tags": [
     "hide-input"
    ]
   },
   "outputs": [],
   "source": [
    "ax = plt.axes(\n",
    "    projection=ccrs.Orthographic(\n",
    "        central_longitude=0.0,\n",
    "        central_latitude=45.0,\n",
    "    )\n",
    ")\n",
    "c = ax.scatter(\n",
    "    lon,\n",
    "    lat,\n",
    "    s=0.1,\n",
    "    c=vor,\n",
    "    transform=ccrs.PlateCarree(),\n",
    "    cmap=\"bwr\",\n",
    "    vmax=1e-6,\n",
    "    vmin=-1e-6,\n",
    ")\n",
    "ax.coastlines()\n",
    "ax.set_title(\"ECCO surface vorticity\")\n",
    "plt.colorbar(c, label=r\"Vorticity $s^{-1}$\")\n",
    "plt.show()"
   ]
  }
 ],
 "metadata": {
  "celltoolbar": "Tags",
  "kernelspec": {
   "display_name": "Python 3 (ipykernel)",
   "language": "python",
   "name": "python3"
  },
  "language_info": {
   "codemirror_mode": {
    "name": "ipython",
    "version": 3
   },
   "file_extension": ".py",
   "mimetype": "text/x-python",
   "name": "python",
   "nbconvert_exporter": "python",
   "pygments_lexer": "ipython3",
   "version": "3.11.4"
  }
 },
 "nbformat": 4,
 "nbformat_minor": 5
}
