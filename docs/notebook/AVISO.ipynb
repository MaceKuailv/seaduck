{
 "cells": [
  {
   "attachments": {},
   "cell_type": "markdown",
   "id": "c6c93715",
   "metadata": {},
   "source": [
    "# Use `seaduck.Particle` with AVISO\n",
    "\n",
    "**Particles are simulated in the Southern Ocean AVISO altimetry surface-ocean velocity field.**\n",
    "\n",
    "Author: Wenrui Jiang, Tom Haine Feb '23"
   ]
  },
  {
   "cell_type": "code",
   "execution_count": null,
   "id": "c63f1559",
   "metadata": {
    "tags": [
     "hide-input"
    ]
   },
   "outputs": [],
   "source": [
    "import cartopy.crs as ccrs\n",
    "import matplotlib as mpl\n",
    "import matplotlib.pyplot as plt\n",
    "import numpy as np\n",
    "\n",
    "import seaduck as sd\n",
    "\n",
    "mpl.rcParams[\"figure.dpi\"] = 300"
   ]
  },
  {
   "attachments": {},
   "cell_type": "markdown",
   "id": "256affe3",
   "metadata": {
    "editable": true,
    "slideshow": {
     "slide_type": ""
    },
    "tags": []
   },
   "source": [
    "## Loading data\n",
    "\n",
    "The AVISO velocity field dataset is on a lat-lon grid with staggered velocity components. It's a snapshot from a single time (see below). `seaduck.utils` provides a few datasets for testing and demonstration purposes. The corresponding dataset is called when the corresponding functions are called."
   ]
  },
  {
   "attachments": {},
   "cell_type": "markdown",
   "id": "906f5971",
   "metadata": {},
   "source": [
    "<div class=\"alert alert-block alert-warning\">\n",
    "<b>Download:</b> If you are running this notebook for the first time, The dataset needs to be downloaded and cached, which can be a little slow.\n",
    "</div>"
   ]
  },
  {
   "cell_type": "code",
   "execution_count": null,
   "id": "c670efe2",
   "metadata": {
    "tags": []
   },
   "outputs": [],
   "source": [
    "ds = sd.utils.get_dataset(\"aviso\")\n",
    "ds"
   ]
  },
  {
   "attachments": {},
   "cell_type": "markdown",
   "id": "e2300abc",
   "metadata": {},
   "source": [
    "Now, create the `OceData` object which provides methods to translate between lat-lon and grid-oriented coords. The model coords frequently needed are also cached. "
   ]
  },
  {
   "cell_type": "code",
   "execution_count": null,
   "id": "528f9f42",
   "metadata": {
    "tags": []
   },
   "outputs": [],
   "source": [
    "bathtub = sd.OceData(ds)"
   ]
  },
  {
   "attachments": {},
   "cell_type": "markdown",
   "id": "c1f84484",
   "metadata": {},
   "source": [
    "The object also contains a `tp` (topology) object. It looks at the shape of the coordinate data. In this Southern Ocean case, based on the longitude range, it thinks the type is `x_periodic`, which is correct for the Southern Ocean."
   ]
  },
  {
   "cell_type": "code",
   "execution_count": null,
   "id": "08e23745",
   "metadata": {
    "tags": []
   },
   "outputs": [],
   "source": [
    "bathtub.tp.typ"
   ]
  },
  {
   "attachments": {},
   "cell_type": "markdown",
   "id": "fd56bcf1",
   "metadata": {},
   "source": [
    "We've prepared the bathtub that the ducks are going to swim (passively drift) in. Now decide where and when to drop them. \n",
    "\n",
    "We are going to use a short-hand defined in `seaduck.utils` to define the initial position for simplicity. The returns are normally four 1D `numpy` array of `lon, lat, dep`, and `time`. It's as simple as that."
   ]
  },
  {
   "cell_type": "code",
   "execution_count": null,
   "id": "4c4a6f6a",
   "metadata": {
    "tags": []
   },
   "outputs": [],
   "source": [
    "# Define the extend of the box\n",
    "west = -180.0\n",
    "east = 180.0\n",
    "south = -74.99\n",
    "north = -40.01\n",
    "shallow = -10.0\n",
    "deep = -10.0\n",
    "\n",
    "time = \"1970-01-01\"\n",
    "\n",
    "Nlon = 300  # How many along longitudinal direction?\n",
    "Nlat = 30  # How many along latitudinal direction?\n",
    "Ndep = 1  # How many along vertical direction?\n",
    "\n",
    "x, y, z, t = sd.utils.easy_3d_cube(\n",
    "    (west, east, Nlon),\n",
    "    (south, north, Nlat),\n",
    "    (shallow, deep, Ndep),\n",
    "    time,\n",
    "    print_total_number=True,\n",
    ")"
   ]
  },
  {
   "attachments": {},
   "cell_type": "markdown",
   "id": "cd57d0a6",
   "metadata": {},
   "source": [
    "**Here is where the particles start on the map:**"
   ]
  },
  {
   "cell_type": "code",
   "execution_count": null,
   "id": "5c150e21",
   "metadata": {
    "tags": [
     "hide-input"
    ]
   },
   "outputs": [],
   "source": [
    "plt.figure(figsize=(16, 9))\n",
    "ax = plt.axes(projection=ccrs.SouthPolarStereo(central_longitude=170.0))\n",
    "ax.plot(x, y, \"r+\", markersize=1, transform=ccrs.PlateCarree())\n",
    "ax.coastlines()\n",
    "ax.set_title(\"Particle initial position\")\n",
    "plt.show()"
   ]
  },
  {
   "attachments": {},
   "cell_type": "markdown",
   "id": "1668a0da",
   "metadata": {},
   "source": [
    "**Fig.1** Initial position of the particles."
   ]
  },
  {
   "attachments": {},
   "cell_type": "markdown",
   "id": "604c2561",
   "metadata": {},
   "source": [
    "The AVISO velocity data only has the horizontal velocity component. Or in other words, all the particles are assumed to be at the same (implicit) level, which is the surface for this example. `seaduck` takes care of that by just setting:"
   ]
  },
  {
   "cell_type": "code",
   "execution_count": null,
   "id": "c64e79be",
   "metadata": {
    "tags": []
   },
   "outputs": [],
   "source": [
    "z = None"
   ]
  },
  {
   "attachments": {},
   "cell_type": "markdown",
   "id": "1cbcc5c9",
   "metadata": {},
   "source": [
    "The AVISO velocity field is a snapshot and does not have a time dimension. Therefore, the time is only valid in a relative sense, i.e. how long has the simulation gone in \"real\" time.\n",
    "\n",
    "The standard format for time in `seaduck` is seconds since `1970-01-01 00:00`, and it could be negative. Remember what time is set as the initial time?"
   ]
  },
  {
   "cell_type": "code",
   "execution_count": null,
   "id": "73e5e169",
   "metadata": {
    "tags": []
   },
   "outputs": [],
   "source": [
    "all(t == 0)"
   ]
  },
  {
   "attachments": {},
   "cell_type": "markdown",
   "id": "c164519e",
   "metadata": {},
   "source": [
    "Let's now define the duration of the simulation (end before start means integrate backwards in time). We can again use a short hand from `seaduck.utils`."
   ]
  },
  {
   "cell_type": "code",
   "execution_count": null,
   "id": "8421fbba",
   "metadata": {},
   "outputs": [],
   "source": [
    "tf = sd.utils.convert_time(\"1970-02-01\")"
   ]
  },
  {
   "attachments": {},
   "cell_type": "markdown",
   "id": "9658dc2a",
   "metadata": {},
   "source": [
    "This is equivalent to:"
   ]
  },
  {
   "cell_type": "raw",
   "id": "9b874e11",
   "metadata": {
    "tags": []
   },
   "source": [
    "tf = (np.datetime64(\"1970-02-01\") - np.datetime64(\"1970-01-01\")) / np.timedelta64(\n",
    "    1, \"s\"\n",
    ")"
   ]
  },
  {
   "attachments": {},
   "cell_type": "markdown",
   "id": "72f67743",
   "metadata": {},
   "source": [
    "We're not interested when particles leave the domain, so we disregard the ones that leave from the northern boundary by defining:"
   ]
  },
  {
   "cell_type": "code",
   "execution_count": null,
   "id": "60649e82",
   "metadata": {},
   "outputs": [],
   "source": [
    "def interested_in(p):\n",
    "    return np.logical_and(-74.5 < p.lat, p.lat < -45.5)"
   ]
  },
  {
   "attachments": {},
   "cell_type": "markdown",
   "id": "907e4756",
   "metadata": {},
   "source": [
    "## Create the `OceInterp.lagrangian.particle` object.\n",
    "\n",
    "We have all the information we need. The final step of preparation is to create the `seaduck.lagrangian.particle` object. We need to tell the `seaduck` this information about the particles: where and when they start, which bathtub they're in, and the names of the velocity components; because it's not great at guessing."
   ]
  },
  {
   "cell_type": "code",
   "execution_count": null,
   "id": "124718ad",
   "metadata": {
    "editable": true,
    "slideshow": {
     "slide_type": ""
    },
    "tags": []
   },
   "outputs": [],
   "source": [
    "p = sd.Particle(\n",
    "    x=x,\n",
    "    y=y,\n",
    "    z=z,\n",
    "    t=t,\n",
    "    data=bathtub,\n",
    "    uname=\"u\",\n",
    "    vname=\"v\",\n",
    "    wname=None,\n",
    "    callback=interested_in,\n",
    ")\n",
    "p"
   ]
  },
  {
   "attachments": {},
   "cell_type": "markdown",
   "id": "974b3cda",
   "metadata": {},
   "source": [
    "## Perform the particle trajectory simulation.\n",
    "\n",
    "The `to_list_of_time` method does the Lagrangian trajectory calculation.\n",
    "\n",
    "Notice how we define when to dump output (`normal_stops`) and when to update the velocity field (`update_stops`). By default, the `stops` returned by the integration is the combination (union) of `normal_stops` and `update_stops`. `raw` is a list of `OceInterp.eulerian.position` objects with the same length as `stops`."
   ]
  },
  {
   "cell_type": "code",
   "execution_count": null,
   "id": "6d8ee9cc",
   "metadata": {
    "editable": true,
    "slideshow": {
     "slide_type": ""
    },
    "tags": []
   },
   "outputs": [],
   "source": [
    "normal_stops = np.linspace(t[0], tf, 10)\n",
    "stops, raw = p.to_list_of_time(normal_stops=normal_stops, update_stops=[])"
   ]
  },
  {
   "attachments": {},
   "cell_type": "markdown",
   "id": "e3866e40",
   "metadata": {},
   "source": [
    "## Plotting\n",
    "\n",
    "First we extract the longitude and latitude from the `raw` object."
   ]
  },
  {
   "cell_type": "code",
   "execution_count": null,
   "id": "25f862a7",
   "metadata": {
    "editable": true,
    "slideshow": {
     "slide_type": ""
    },
    "tags": []
   },
   "outputs": [],
   "source": [
    "lons = np.array([pt.lon for pt in raw]).T\n",
    "lats = np.array([pt.lat for pt in raw]).T"
   ]
  },
  {
   "attachments": {},
   "cell_type": "markdown",
   "id": "0e8b0f78",
   "metadata": {},
   "source": [
    "Some particles passed through the dateline (periodic boundary). Here is some post-processing to handle the plot."
   ]
  },
  {
   "cell_type": "code",
   "execution_count": null,
   "id": "0e0fc0c8",
   "metadata": {
    "editable": true,
    "slideshow": {
     "slide_type": ""
    },
    "tags": [
     "hide-input"
    ]
   },
   "outputs": [],
   "source": [
    "for i in range(len(lons)):\n",
    "    diff = np.diff(lons[i])\n",
    "\n",
    "    if max(abs(diff)) > 330:\n",
    "        for j in np.where(abs(diff) > 300)[0]:\n",
    "            j = int(j)\n",
    "            lons[i, j + 1 :] -= np.sign(diff[j]) * 360"
   ]
  },
  {
   "attachments": {},
   "cell_type": "markdown",
   "id": "c7046590",
   "metadata": {
    "editable": true,
    "slideshow": {
     "slide_type": ""
    },
    "tags": []
   },
   "source": [
    "Voila!"
   ]
  },
  {
   "cell_type": "code",
   "execution_count": null,
   "id": "5338b2f2",
   "metadata": {
    "editable": true,
    "slideshow": {
     "slide_type": ""
    },
    "tags": [
     "hide-input"
    ]
   },
   "outputs": [],
   "source": [
    "plt.figure(figsize=(9, 16))\n",
    "ax = plt.axes(projection=ccrs.SouthPolarStereo(central_longitude=170.0))\n",
    "ax.plot(lons.T, lats.T, \"darkblue\", lw=0.3, transform=ccrs.PlateCarree())\n",
    "ax.coastlines()\n",
    "ax.set_title(\"Particle trajectories\")\n",
    "plt.show()"
   ]
  },
  {
   "attachments": {},
   "cell_type": "markdown",
   "id": "efec698b",
   "metadata": {},
   "source": [
    "**Fig.2** The trajectories of particles advected by AVISO-derived surface velocity field."
   ]
  },
  {
   "cell_type": "markdown",
   "id": "072f7015-6e4e-473e-85e3-ba15388963b9",
   "metadata": {
    "editable": true,
    "slideshow": {
     "slide_type": ""
    },
    "tags": []
   },
   "source": [
    "## Advanced use of `Particle`\n",
    "\n",
    "In this subsection, we are going to demonstrate how to access the analytical trajectories of particles. We are also going to demonstrate the flexibility of Particle release.\n",
    "\n",
    "Most of the notebooks release particles at the same time. We are going to do it differently this time. They are going to be released at 64W and 55S and 64S. Crucially, all of the particles are released at a different time."
   ]
  },
  {
   "cell_type": "code",
   "execution_count": null,
   "id": "b1a404b2-c59c-4d1a-87be-a49230639ebe",
   "metadata": {
    "editable": true,
    "slideshow": {
     "slide_type": ""
    },
    "tags": [
     "hide-input"
    ]
   },
   "outputs": [],
   "source": [
    "N = 777\n",
    "t_earliest = sd.utils.convert_time(\"1970-01-01\")\n",
    "t_final = sd.utils.convert_time(\"1970-02-01\")\n",
    "t_latest = sd.utils.convert_time(\"1970-03-03\")  # damn you, February.\n",
    "t = np.linspace(t_earliest, t_latest, N)\n",
    "\n",
    "number_of_loop = 6.18\n",
    "# y = -65.0+np.abs(10-np.linspace(0,number_of_loop*20,N)%20)\n",
    "y = -59.5 + 4.5 * np.sin(number_of_loop * np.linspace(-3.14, 3.14, N))\n",
    "x = np.ones(N) * (-64.0)\n",
    "z = -np.ones(N)"
   ]
  },
  {
   "cell_type": "markdown",
   "id": "19c51858-ecf6-4229-adf9-0c6051d00405",
   "metadata": {
    "editable": true,
    "slideshow": {
     "slide_type": ""
    },
    "tags": []
   },
   "source": [
    "To better demonstrate, here is a plot showing the release pattern of the particle. The time is referenced against the final time of the simulation. Note that every single particle will be released at a different time and there are going to be both forward and backward particles in the same simulation.\n",
    "\n",
    "This is as if there is a ship is commuting in drake passage while releasing particles."
   ]
  },
  {
   "cell_type": "code",
   "execution_count": null,
   "id": "1f5c63f8-6074-41d7-b0f6-513ee484e89a",
   "metadata": {
    "editable": true,
    "slideshow": {
     "slide_type": ""
    },
    "tags": [
     "hide-input"
    ]
   },
   "outputs": [],
   "source": [
    "plt.plot(t, y, \"o\", markersize=1)\n",
    "plt.xticks(\n",
    "    [t_earliest, t_final - 15 * 86400, t_final, t_final + 15 * 86400, t_latest],\n",
    "    [\"-31 days\", \"-15 days\", \"0\", \"+15 days\", \"+31 days\"],\n",
    ")\n",
    "plt.ylabel(\"Latitude\")\n",
    "plt.title(\"Latitude of particles released at 64W\")\n",
    "plt.show()"
   ]
  },
  {
   "cell_type": "markdown",
   "id": "c4c7c3de-7c11-428e-b342-c854cc38e4ed",
   "metadata": {
    "editable": true,
    "slideshow": {
     "slide_type": ""
    },
    "tags": []
   },
   "source": [
    "**Fig.3** Pattern of particle release. Time is relative to the final time."
   ]
  },
  {
   "cell_type": "markdown",
   "id": "2b5e335f-198a-4ba1-b3ff-85f5cc39d31b",
   "metadata": {
    "editable": true,
    "slideshow": {
     "slide_type": ""
    },
    "tags": []
   },
   "source": [
    "The only difference in preparation between this one and the previous simulation is that we have `save_raw = True`. This means the particles will record all the necessary informations to reconstruct the analytical trajectory."
   ]
  },
  {
   "cell_type": "code",
   "execution_count": null,
   "id": "e329dca7-f916-4b08-89da-e99264f2aa76",
   "metadata": {
    "editable": true,
    "slideshow": {
     "slide_type": ""
    },
    "tags": []
   },
   "outputs": [],
   "source": [
    "p = sd.Particle(\n",
    "    x=x,\n",
    "    y=y,\n",
    "    z=z,\n",
    "    t=t,\n",
    "    data=bathtub,\n",
    "    uname=\"u\",\n",
    "    vname=\"v\",\n",
    "    wname=None,\n",
    "    callback=interested_in,\n",
    "    save_raw=True,\n",
    ")"
   ]
  },
  {
   "cell_type": "markdown",
   "id": "1ef2b1d9-eceb-4418-9911-683116a8beb1",
   "metadata": {
    "editable": true,
    "slideshow": {
     "slide_type": ""
    },
    "tags": []
   },
   "source": [
    "No tricks need to be played while execution."
   ]
  },
  {
   "cell_type": "code",
   "execution_count": null,
   "id": "eedf2bfd-5e4c-4387-b1d1-c7d81ed209f8",
   "metadata": {
    "editable": true,
    "slideshow": {
     "slide_type": ""
    },
    "tags": []
   },
   "outputs": [],
   "source": [
    "%%time\n",
    "p.to_next_stop(t_final)"
   ]
  },
  {
   "cell_type": "markdown",
   "id": "850b27c8-5bcd-4d5e-bba0-5b88a380cf2b",
   "metadata": {
    "editable": true,
    "slideshow": {
     "slide_type": ""
    },
    "tags": []
   },
   "source": [
    "When `save_raw = True` is selected, the `Particle` object records location and velocity information everytime velocity is updated. The following plot is plotted from longitude and latitudes of particles crossing cell walls. Each trajectory is colored based on the time of release, Purple is the earliest, red is the latest (furthest into the future)."
   ]
  },
  {
   "cell_type": "code",
   "execution_count": null,
   "id": "0d6a4387-b10e-489c-a527-47d54b3f101f",
   "metadata": {
    "editable": true,
    "slideshow": {
     "slide_type": ""
    },
    "tags": [
     "hide-input"
    ]
   },
   "outputs": [],
   "source": [
    "plt.figure(figsize=(9, 16))\n",
    "ax = plt.axes(projection=ccrs.PlateCarree())\n",
    "rainbow = plt.get_cmap(\"rainbow\")\n",
    "for i in range(0, N):\n",
    "    color = rainbow(t[i] / 2 / t_final)\n",
    "    ax.plot([x[i]] + p.xxlist[i], [y[i]] + p.yylist[i], color=color, lw=0.2)\n",
    "ax.coastlines()\n",
    "plt.show()"
   ]
  },
  {
   "cell_type": "markdown",
   "id": "80a5ee7e-4791-46cb-9635-2084c262449d",
   "metadata": {
    "editable": true,
    "slideshow": {
     "slide_type": ""
    },
    "tags": []
   },
   "source": [
    "**Fig.4** Trajectory of particles released at different time. Warm color are particles released after the final time, and cold colors are those released before the final time."
   ]
  }
 ],
 "metadata": {
  "celltoolbar": "Tags",
  "kernelspec": {
   "display_name": "Python 3 (ipykernel)",
   "language": "python",
   "name": "python3"
  },
  "language_info": {
   "codemirror_mode": {
    "name": "ipython",
    "version": 3
   },
   "file_extension": ".py",
   "mimetype": "text/x-python",
   "name": "python",
   "nbconvert_exporter": "python",
   "pygments_lexer": "ipython3",
   "version": "3.11.3"
  }
 },
 "nbformat": 4,
 "nbformat_minor": 5
}
