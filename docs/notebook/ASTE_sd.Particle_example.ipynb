{
 "cells": [
  {
   "cell_type": "markdown",
   "id": "0",
   "metadata": {},
   "source": [
    "# Using <code>seaduck.Particle</code> with ASTE"
   ]
  },
  {
   "cell_type": "markdown",
   "id": "1",
   "metadata": {},
   "source": [
    "An example of simulated particles in the Arctic Ocean using the Arctic Subpolar gyre sTate Estimate (ASTE) velocity fields (Nguyen et al., 2021)."
   ]
  },
  {
   "cell_type": "markdown",
   "id": "2",
   "metadata": {},
   "source": [
    "Authors: Carenza Williams and Wenrui Jiang"
   ]
  },
  {
   "cell_type": "code",
   "execution_count": null,
   "id": "3",
   "metadata": {
    "tags": []
   },
   "outputs": [],
   "source": [
    "# -------------------------\n",
    "# Import required packages\n",
    "# -------------------------\n",
    "\n",
    "import warnings\n",
    "\n",
    "import cartopy.crs as ccrs\n",
    "import matplotlib as mpl\n",
    "import matplotlib.pyplot as plt\n",
    "import numpy as np\n",
    "\n",
    "import seaduck as sd\n",
    "\n",
    "warnings.filterwarnings(\"ignore\")\n",
    "\n",
    "mpl.rcParams[\"figure.dpi\"] = 300"
   ]
  },
  {
   "cell_type": "markdown",
   "id": "4",
   "metadata": {},
   "source": [
    "## Load ASTE dataset"
   ]
  },
  {
   "cell_type": "markdown",
   "id": "5",
   "metadata": {},
   "source": [
    "The full ASTE velocity datasets are large. Seaduck has a handy, built-in function to access the small slice of data that this notebook uses."
   ]
  },
  {
   "cell_type": "code",
   "execution_count": null,
   "id": "6",
   "metadata": {},
   "outputs": [],
   "source": [
    "ds = sd.utils.get_dataset(\"aste\")\n",
    "ds"
   ]
  },
  {
   "cell_type": "markdown",
   "id": "7",
   "metadata": {},
   "source": [
    "This dataset contains three variables: sea surface height (ETAN, in meters), velocity in the x-direction (UVELMASS, in meters per second) and velocity in the y-direction (VVELMASS, in meters per second). This slice of data is a single snapshot in time - that is, it contains only one time point."
   ]
  },
  {
   "cell_type": "markdown",
   "id": "8",
   "metadata": {},
   "source": [
    "It is useful to note that ASTE uses complex grid topology, such that it has a <code>face</code> dimension as well as <code>X</code> and <code>Y</code> dimensions."
   ]
  },
  {
   "cell_type": "markdown",
   "id": "9",
   "metadata": {},
   "source": [
    "<div style=\"border-left: 4px solid #1E90FF; background-color: #e6f2ff; padding: 10px; margin: 10px 0;\">\n",
    "  <strong>💡 Note:</strong> The full ASTE dataset can be accessed using <code>xmitgcm</code> by following instructions \n",
    "  <a href=\"https://xmitgcm.readthedocs.io/en/latest/llcreader.html\" target = \"_blank\"> here</a>.\n",
    "</div>"
   ]
  },
  {
   "cell_type": "markdown",
   "id": "10",
   "metadata": {},
   "source": [
    "## Set up the simulation"
   ]
  },
  {
   "cell_type": "markdown",
   "id": "11",
   "metadata": {},
   "source": [
    "This notebook will describe how to put some particles in the Arctic Ocean and visualize their movements for six months. To do this, seaduck requires that the ASTE data is in the form of a seaduck Ocean Dataset. This allows for conversion between grid coordinates and latitude/longitude coordinates, as well as providing topology information."
   ]
  },
  {
   "cell_type": "code",
   "execution_count": null,
   "id": "12",
   "metadata": {
    "tags": []
   },
   "outputs": [],
   "source": [
    "bathtub = sd.OceData(ds)\n",
    "bathtub"
   ]
  },
  {
   "cell_type": "markdown",
   "id": "13",
   "metadata": {},
   "source": [
    "The above code cell generated the seaduck Ocean Dataset object. This object includes a topology object, which for ASTE is of type '**LLC**'. This reflects ASTE's **L**atitude-**L**ongitude-**C**ap grid."
   ]
  },
  {
   "cell_type": "code",
   "execution_count": null,
   "id": "14",
   "metadata": {
    "tags": []
   },
   "outputs": [],
   "source": [
    "bathtub.tp.typ"
   ]
  },
  {
   "cell_type": "markdown",
   "id": "15",
   "metadata": {},
   "source": [
    "Now that the dataset for the interpolation has been prepared, we can initialize particles in the Arctic Ocean. We need to decide where and when the particle trajectories will begin."
   ]
  },
  {
   "cell_type": "markdown",
   "id": "16",
   "metadata": {},
   "source": [
    "For this example, we will place particles randomly all over the Arctic Ocean. This code generates particles distributed on a sphere further north than 70 degrees latitude, all with a depth of 10m. "
   ]
  },
  {
   "cell_type": "code",
   "execution_count": null,
   "id": "17",
   "metadata": {},
   "outputs": [],
   "source": [
    "N = int(10e4)\n",
    "np.random.seed(0)  # Reset seed for reproducability\n",
    "\n",
    "# Place particles on a sphere with normal distribution in x, y and z\n",
    "xx, yy, zz = [np.random.normal(size=N) for i in range(3)]\n",
    "r = np.sqrt(xx**2 + yy**2 + zz**2)\n",
    "y = (np.pi / 2 - np.arccos(zz / r)) * 180 / np.pi\n",
    "x = np.arctan2(yy, xx) * 180 / np.pi\n",
    "\n",
    "# Limit to be further north than 70 degrees latitude\n",
    "x = x[y > 70]\n",
    "y = y[y > 70]\n",
    "\n",
    "# Set depth to be -10 metres\n",
    "z = np.ones_like(x) * (-10.0)"
   ]
  },
  {
   "cell_type": "markdown",
   "id": "18",
   "metadata": {},
   "source": [
    "Next, we will consider the timing of the simulation. The ASTE data used here begins on 1st February 2002, so this must be the starting time, <code>t</code>. However, this dataset is a snapshot, and does not have a true time dimension. "
   ]
  },
  {
   "cell_type": "markdown",
   "id": "19",
   "metadata": {},
   "source": [
    "We will also need to choose for how long we would like to simulate our particles. Because the dataset has no true time dimension, we must think of time relatively rather than absolutely. Let's choose to simulate these particles forwards in time for six months, such that the end time is <code>2002-08-01</code>. This means that the particles will move about for six months using the velocities stored in <code>ds</code>."
   ]
  },
  {
   "cell_type": "code",
   "execution_count": null,
   "id": "20",
   "metadata": {
    "tags": []
   },
   "outputs": [],
   "source": [
    "t = np.ones_like(x) * sd.utils.convert_time(\"2002-02-01\")  # Initial time\n",
    "tf = sd.utils.convert_time(\"2002-08-01\")  # Final time"
   ]
  },
  {
   "cell_type": "markdown",
   "id": "21",
   "metadata": {},
   "source": [
    "It's good practice to set a limit at which particles stop being tracked. This can speed up the simulation, and help make output data more manageable. This example will stop tracking particles once they cross the 60 degree parallel. "
   ]
  },
  {
   "cell_type": "code",
   "execution_count": null,
   "id": "22",
   "metadata": {
    "tags": []
   },
   "outputs": [],
   "source": [
    "def interested_in(p):\n",
    "    return 60 < p.lat"
   ]
  },
  {
   "cell_type": "markdown",
   "id": "23",
   "metadata": {},
   "source": [
    "Now that all of the set up has been taken care of, we can create a Particle object! This allows us to combine all the initial information about the particles (e.g. spatial distribution, time) in one object that can be used to integrate the particles in time."
   ]
  },
  {
   "cell_type": "code",
   "execution_count": null,
   "id": "24",
   "metadata": {
    "tags": []
   },
   "outputs": [],
   "source": [
    "p = sd.Particle(\n",
    "    x=x,\n",
    "    y=y,\n",
    "    z=z,\n",
    "    t=t,\n",
    "    data=bathtub,\n",
    "    uname=\"UVELMASS\",\n",
    "    vname=\"VVELMASS\",\n",
    "    wname=None,\n",
    "    callback=interested_in,\n",
    ")\n",
    "\n",
    "# remove particles on land.\n",
    "p = p.subset(p.u != 0)\n",
    "\n",
    "# Inspect the object\n",
    "p"
   ]
  },
  {
   "cell_type": "markdown",
   "id": "25",
   "metadata": {},
   "source": [
    "Let's check out the inital positions of our particles."
   ]
  },
  {
   "cell_type": "code",
   "execution_count": null,
   "id": "26",
   "metadata": {
    "tags": []
   },
   "outputs": [],
   "source": [
    "plt.figure(figsize=(10, 10))\n",
    "ax = plt.axes(projection=ccrs.NorthPolarStereo(central_longitude=0))\n",
    "ax.plot(p.lon, p.lat, \"r+\", markersize=1, transform=ccrs.PlateCarree())\n",
    "ax.coastlines()\n",
    "ax.set_extent([-180, 180, 60, 90], ccrs.PlateCarree())\n",
    "ax.set_title(f\"Particle initial position ({p.N} in total)\")\n",
    "plt.show()"
   ]
  },
  {
   "cell_type": "markdown",
   "id": "27",
   "metadata": {},
   "source": [
    "## Simulate particles forwards in time"
   ]
  },
  {
   "cell_type": "markdown",
   "id": "28",
   "metadata": {},
   "source": [
    "The particles are in position, so it is time to carry out the simulation. Seaduck's Particle object has the <code>.to_list_of_time</code> option, which runs the particle trajectory simulation and returns the particle positions at specified output times. These output times are defined by <code>normal_stops</code>, at 15 regular intervals between the beginning time, <code>t[0]</code>, and the end time, <code>tf</code>. We will generate <code>stops</code>, which is a list of time that corresponds to <code>normal_stops</code>, and <code>raw</code>, which is a list of <code>sd.Position</code> objects, one for each time in <code>stops</code>. "
   ]
  },
  {
   "cell_type": "code",
   "execution_count": null,
   "id": "29",
   "metadata": {
    "tags": []
   },
   "outputs": [],
   "source": [
    "# Define when to dump output\n",
    "normal_stops = np.linspace(t[0], tf, 15)\n",
    "\n",
    "# Simulation!\n",
    "stops, raw = p.to_list_of_time(normal_stops=normal_stops)"
   ]
  },
  {
   "cell_type": "markdown",
   "id": "30",
   "metadata": {},
   "source": [
    "## Plot the trajectories"
   ]
  },
  {
   "cell_type": "markdown",
   "id": "31",
   "metadata": {},
   "source": [
    "The simulation is complete! Now it is time to plot the output. First, let's generate an array of latitudes and longitudes from the <code>raw</code> object."
   ]
  },
  {
   "cell_type": "code",
   "execution_count": null,
   "id": "32",
   "metadata": {
    "tags": []
   },
   "outputs": [],
   "source": [
    "lons = np.array([pt.lon for pt in raw]).T\n",
    "lats = np.array([pt.lat for pt in raw]).T"
   ]
  },
  {
   "cell_type": "code",
   "execution_count": null,
   "id": "33",
   "metadata": {
    "tags": []
   },
   "outputs": [],
   "source": [
    "plt.figure(figsize=(10, 10))\n",
    "ax = plt.axes(projection=ccrs.NorthPolarStereo(central_longitude=0))\n",
    "ax.plot(lons.T, lats.T, \"darkblue\", lw=0.2, transform=ccrs.PlateCarree())\n",
    "ax.coastlines()\n",
    "ax.set_extent([-180, 180, 65, 90], ccrs.PlateCarree())\n",
    "ax.set_title(\"Particle trajectories\")\n",
    "plt.show()"
   ]
  },
  {
   "cell_type": "markdown",
   "id": "34",
   "metadata": {},
   "source": [
    "Looks good!"
   ]
  }
 ],
 "metadata": {
  "kernelspec": {
   "display_name": "Python 3 (ipykernel)",
   "language": "python",
   "name": "python3"
  },
  "language_info": {
   "codemirror_mode": {
    "name": "ipython",
    "version": 3
   },
   "file_extension": ".py",
   "mimetype": "text/x-python",
   "name": "python",
   "nbconvert_exporter": "python",
   "pygments_lexer": "ipython3",
   "version": "3.9.0"
  }
 },
 "nbformat": 4,
 "nbformat_minor": 5
}
